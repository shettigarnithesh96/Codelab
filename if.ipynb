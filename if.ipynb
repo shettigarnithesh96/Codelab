{
 "cells": [
  {
   "cell_type": "code",
   "execution_count": 21,
   "id": "6605241e-c576-4a3a-a4c5-f99fcaa9a03a",
   "metadata": {},
   "outputs": [
    {
     "name": "stdin",
     "output_type": "stream",
     "text": [
      "Enter a first number: 1\n",
      "Enter a second number: 2\n",
      "Enter a third number: 3\n"
     ]
    }
   ],
   "source": [
    "a = int(input(\"Enter a first number:\"))\n",
    "b = int(input(\"Enter a second number:\"))\n",
    "c = int(input(\"Enter a third number:\"))"
   ]
  },
  {
   "cell_type": "code",
   "execution_count": 22,
   "id": "ed4e8900-3909-4d95-b1d7-b1a90f44abb0",
   "metadata": {},
   "outputs": [
    {
     "name": "stdout",
     "output_type": "stream",
     "text": [
      "B is the largest\n"
     ]
    }
   ],
   "source": [
    "if a>b:\n",
    "    print(\"A is the largest number\")\n",
    "elif b>a:\n",
    "    print(\"B is the largest\")  \n",
    "elif b>c:\n",
    "    print(\"B is the largest number\")\n",
    "elif c>b:\n",
    "    print(\"C is the largest\") \n",
    "elif a>c:\n",
    "    print(\"A is the largest number\")\n",
    "elif c>a:\n",
    "    print(\"C is the largest\") \n"
   ]
  },
  {
   "cell_type": "code",
   "execution_count": null,
   "id": "c65c979c-6de3-47f2-ba66-690f66ca2d06",
   "metadata": {},
   "outputs": [],
   "source": [
    "elif b>c:\n",
    "    print(\"B is the largest\")\n",
    "    else:\n",
    "        print(\"C is largest\")"
   ]
  }
 ],
 "metadata": {
  "kernelspec": {
   "display_name": "Python 3 (ipykernel)",
   "language": "python",
   "name": "python3"
  },
  "language_info": {
   "codemirror_mode": {
    "name": "ipython",
    "version": 3
   },
   "file_extension": ".py",
   "mimetype": "text/x-python",
   "name": "python",
   "nbconvert_exporter": "python",
   "pygments_lexer": "ipython3",
   "version": "3.11.1"
  }
 },
 "nbformat": 4,
 "nbformat_minor": 5
}
