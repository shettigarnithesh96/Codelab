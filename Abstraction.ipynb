{
 "cells": [
  {
   "cell_type": "markdown",
   "id": "b8df737a-519a-4a48-9602-e4a1b608dda2",
   "metadata": {},
   "source": [
    "### Abstraction\n",
    "\n",
    "##### Abstraction is a process of hidding the implementation details from the user only the highlighted set of the services provided to the user\n",
    "##### Abstraction is used to hide the irrelevant data or class in order to reduce the complexity\n",
    "##### Example :"
   ]
  },
  {
   "cell_type": "code",
   "execution_count": 4,
   "id": "25f22867-ff18-40e6-be6e-a4eddf9f7e68",
   "metadata": {},
   "outputs": [
    {
     "name": "stdout",
     "output_type": "stream",
     "text": [
      "Area of the circle: 78.5\n",
      "Perimeter of the circle: 31.400000000000002\n"
     ]
    }
   ],
   "source": [
    "from abc import ABC,abstractmethod\n",
    "class Shape(ABC):\n",
    "    def area(self):\n",
    "        pass\n",
    "    def perimeter(self):\n",
    "        pass\n",
    "class Circle(Shape):\n",
    "    def __init__(self,radius):\n",
    "        self.radius = radius\n",
    "    def area(self):\n",
    "        return 3.14 * self.radius * self.radius\n",
    "    def perimeter(self):\n",
    "        return 2 * 3.14 * self.radius\n",
    "c = Circle(5)\n",
    "print(\"Area of the circle:\",c.area())\n",
    "print(\"Perimeter of the circle:\",c.perimeter())"
   ]
  },
  {
   "cell_type": "code",
   "execution_count": null,
   "id": "7ba40d9d-c4cc-4c87-8bd7-221dd9a565f3",
   "metadata": {},
   "outputs": [],
   "source": []
  }
 ],
 "metadata": {
  "kernelspec": {
   "display_name": "Python 3 (ipykernel)",
   "language": "python",
   "name": "python3"
  },
  "language_info": {
   "codemirror_mode": {
    "name": "ipython",
    "version": 3
   },
   "file_extension": ".py",
   "mimetype": "text/x-python",
   "name": "python",
   "nbconvert_exporter": "python",
   "pygments_lexer": "ipython3",
   "version": "3.11.1"
  }
 },
 "nbformat": 4,
 "nbformat_minor": 5
}
