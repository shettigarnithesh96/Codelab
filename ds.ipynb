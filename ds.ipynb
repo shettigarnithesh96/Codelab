{
 "cells": [
  {
   "cell_type": "code",
   "execution_count": 7,
   "id": "85a03cfc-7745-4f12-b267-eb427dca1d17",
   "metadata": {},
   "outputs": [],
   "source": [
    "x = 56\n",
    "y = \"pawan\"\n",
    "z = 1.0"
   ]
  },
  {
   "cell_type": "code",
   "execution_count": 5,
   "id": "c3294a80-daf6-49aa-8cb5-2473b8fc2e0b",
   "metadata": {},
   "outputs": [
    {
     "data": {
      "text/plain": [
       "int"
      ]
     },
     "execution_count": 5,
     "metadata": {},
     "output_type": "execute_result"
    }
   ],
   "source": [
    "type(x)"
   ]
  },
  {
   "cell_type": "code",
   "execution_count": 6,
   "id": "b900077d-5c0e-4ba0-9851-091fd22fb400",
   "metadata": {},
   "outputs": [
    {
     "data": {
      "text/plain": [
       "str"
      ]
     },
     "execution_count": 6,
     "metadata": {},
     "output_type": "execute_result"
    }
   ],
   "source": [
    "type(y)"
   ]
  },
  {
   "cell_type": "code",
   "execution_count": 8,
   "id": "5df7a85d-4732-4c65-a762-a6f520413a9e",
   "metadata": {},
   "outputs": [
    {
     "data": {
      "text/plain": [
       "float"
      ]
     },
     "execution_count": 8,
     "metadata": {},
     "output_type": "execute_result"
    }
   ],
   "source": [
    "type(z)"
   ]
  },
  {
   "cell_type": "code",
   "execution_count": 9,
   "id": "1ad6739e-53ef-45cc-8660-3abcd8f1206b",
   "metadata": {},
   "outputs": [
    {
     "name": "stdout",
     "output_type": "stream",
     "text": [
      "pawan\n"
     ]
    }
   ],
   "source": [
    "print(y)"
   ]
  },
  {
   "cell_type": "code",
   "execution_count": 10,
   "id": "ab94dd56-eddc-4d65-abee-74c988c499a6",
   "metadata": {},
   "outputs": [
    {
     "name": "stdout",
     "output_type": "stream",
     "text": [
      "Hi my name is pawan,\n",
      "how are you,\n",
      "welcome to gpt bantwal\n"
     ]
    }
   ],
   "source": [
    "a = \"\"\"Hi my name is pawan,\n",
    "how are you,\n",
    "welcome to gpt bantwal\"\"\"\n",
    "print(a)"
   ]
  },
  {
   "cell_type": "code",
   "execution_count": 11,
   "id": "33cf2ee7-d3ff-4e30-8cc9-0bd17c708f9d",
   "metadata": {},
   "outputs": [
    {
     "name": "stdout",
     "output_type": "stream",
     "text": [
      "56\n"
     ]
    }
   ],
   "source": [
    "print(len(a))"
   ]
  },
  {
   "cell_type": "code",
   "execution_count": 12,
   "id": "c62517bd-baf0-4b9c-b2b5-5521d1d116ac",
   "metadata": {},
   "outputs": [
    {
     "name": "stdout",
     "output_type": "stream",
     "text": [
      "True\n"
     ]
    }
   ],
   "source": [
    "print(\"you\" in a)"
   ]
  },
  {
   "cell_type": "code",
   "execution_count": 15,
   "id": "b7a1acd3-6a1a-4a3a-bb9c-837743077416",
   "metadata": {},
   "outputs": [
    {
     "name": "stdout",
     "output_type": "stream",
     "text": [
      "False\n"
     ]
    }
   ],
   "source": [
    "print(\"ronith\" in a)"
   ]
  },
  {
   "cell_type": "code",
   "execution_count": 16,
   "id": "10c044c9-362e-4bd4-a7f4-3b7836e13a59",
   "metadata": {},
   "outputs": [],
   "source": [
    "name = \"ronith\""
   ]
  },
  {
   "cell_type": "code",
   "execution_count": 19,
   "id": "518377a2-fed5-4f00-902e-e7828eaddeb3",
   "metadata": {},
   "outputs": [
    {
     "name": "stdout",
     "output_type": "stream",
     "text": [
      "n\n"
     ]
    }
   ],
   "source": [
    "#positive index\n",
    "print(name[2])"
   ]
  },
  {
   "cell_type": "code",
   "execution_count": 23,
   "id": "54c16796-eb92-45b8-ab43-66e59c175d3e",
   "metadata": {},
   "outputs": [
    {
     "name": "stdout",
     "output_type": "stream",
     "text": [
      "n\n"
     ]
    }
   ],
   "source": [
    "#negative index\n",
    "print(name[-4])"
   ]
  },
  {
   "cell_type": "code",
   "execution_count": 29,
   "id": "7269d2db-bf33-4454-bfe9-5c6b236b6740",
   "metadata": {},
   "outputs": [
    {
     "data": {
      "text/plain": [
       "'Welcome'"
      ]
     },
     "execution_count": 29,
     "metadata": {},
     "output_type": "execute_result"
    }
   ],
   "source": [
    "a = \"Hello World Welcome\"\n",
    "a[12:]"
   ]
  },
  {
   "cell_type": "code",
   "execution_count": 28,
   "id": "5607cdea-8db5-4b44-a432-5fe6ebd20efa",
   "metadata": {},
   "outputs": [
    {
     "data": {
      "text/plain": [
       "'Hello'"
      ]
     },
     "execution_count": 28,
     "metadata": {},
     "output_type": "execute_result"
    }
   ],
   "source": [
    "a[:5]"
   ]
  },
  {
   "cell_type": "code",
   "execution_count": 30,
   "id": "231cc02a-019e-41c6-9640-3ef6c91871b5",
   "metadata": {},
   "outputs": [
    {
     "data": {
      "text/plain": [
       "'Hlo'"
      ]
     },
     "execution_count": 30,
     "metadata": {},
     "output_type": "execute_result"
    }
   ],
   "source": [
    "a[0:5:2]"
   ]
  },
  {
   "cell_type": "code",
   "execution_count": 33,
   "id": "f871d4ef-edcc-4286-a1b3-19d9d2f90a79",
   "metadata": {},
   "outputs": [
    {
     "data": {
      "text/plain": [
       "'HlWlWce'"
      ]
     },
     "execution_count": 33,
     "metadata": {},
     "output_type": "execute_result"
    }
   ],
   "source": [
    "a[0:19:3]"
   ]
  },
  {
   "cell_type": "code",
   "execution_count": 44,
   "id": "464974aa-51c1-4412-8023-0bad720b43a2",
   "metadata": {},
   "outputs": [
    {
     "data": {
      "text/plain": [
       "'World'"
      ]
     },
     "execution_count": 44,
     "metadata": {},
     "output_type": "execute_result"
    }
   ],
   "source": [
    "a[-13:-8]"
   ]
  },
  {
   "cell_type": "code",
   "execution_count": 45,
   "id": "97619114-d4ce-44b8-a121-525d086a9199",
   "metadata": {},
   "outputs": [
    {
     "data": {
      "text/plain": [
       "'Hello'"
      ]
     },
     "execution_count": 45,
     "metadata": {},
     "output_type": "execute_result"
    }
   ],
   "source": [
    "a[-19:-14]"
   ]
  },
  {
   "cell_type": "code",
   "execution_count": 55,
   "id": "79f4b854-81a3-482d-892b-b684138d10cd",
   "metadata": {},
   "outputs": [
    {
     "data": {
      "text/plain": [
       "'Welcome'"
      ]
     },
     "execution_count": 55,
     "metadata": {},
     "output_type": "execute_result"
    }
   ],
   "source": [
    "a[-7:]"
   ]
  },
  {
   "cell_type": "raw",
   "id": "130aa81a-6d98-4cfe-a517-9814328cd3e9",
   "metadata": {},
   "source": [
    "a[::-1]"
   ]
  },
  {
   "cell_type": "code",
   "execution_count": 77,
   "id": "22c1e7d1-e1cd-4ddd-93ba-78604f5ee1ce",
   "metadata": {},
   "outputs": [
    {
     "data": {
      "text/plain": [
       "'olleH'"
      ]
     },
     "execution_count": 77,
     "metadata": {},
     "output_type": "execute_result"
    }
   ],
   "source": [
    "a[-15:-20:-1]"
   ]
  },
  {
   "cell_type": "code",
   "execution_count": 72,
   "id": "1e87f6d7-9730-48d3-98ca-18ed6d69e7db",
   "metadata": {},
   "outputs": [
    {
     "data": {
      "text/plain": [
       "' dlroW'"
      ]
     },
     "execution_count": 72,
     "metadata": {},
     "output_type": "execute_result"
    }
   ],
   "source": [
    "a[-8:-14:-1]"
   ]
  },
  {
   "cell_type": "code",
   "execution_count": 78,
   "id": "ff576b0c-5479-4fde-a062-a190047eb254",
   "metadata": {},
   "outputs": [
    {
     "data": {
      "text/plain": [
       "'emocleW'"
      ]
     },
     "execution_count": 78,
     "metadata": {},
     "output_type": "execute_result"
    }
   ],
   "source": [
    "a[-1:-8:-1]"
   ]
  },
  {
   "cell_type": "code",
   "execution_count": 79,
   "id": "f0431285-99fe-4538-8eb1-7587797ce25e",
   "metadata": {},
   "outputs": [
    {
     "name": "stdout",
     "output_type": "stream",
     "text": [
      "HELLO WORLD WELCOME\n"
     ]
    }
   ],
   "source": [
    "print(a.upper())"
   ]
  },
  {
   "cell_type": "code",
   "execution_count": 80,
   "id": "c5f45bd4-e978-423a-bde3-43b36ef41004",
   "metadata": {},
   "outputs": [
    {
     "name": "stdout",
     "output_type": "stream",
     "text": [
      "hello world welcome\n"
     ]
    }
   ],
   "source": [
    "print(a.lower())"
   ]
  },
  {
   "cell_type": "code",
   "execution_count": 91,
   "id": "f3704650-b051-4272-9f78-c82e42f1ef97",
   "metadata": {},
   "outputs": [
    {
     "name": "stdout",
     "output_type": "stream",
     "text": [
      "Jello World Welcome\n"
     ]
    }
   ],
   "source": [
    "a = a.replace(\"H\",\"J\")\n",
    "print(a)"
   ]
  },
  {
   "cell_type": "code",
   "execution_count": 94,
   "id": "8771faef-4ec0-46aa-8614-ee6df78c01d2",
   "metadata": {},
   "outputs": [
    {
     "name": "stdout",
     "output_type": "stream",
     "text": [
      "pawanronith\n"
     ]
    }
   ],
   "source": [
    "a = \"pawan\"\n",
    "b = \"ronith\"\n",
    "c = a+b\n",
    "print(c)"
   ]
  },
  {
   "cell_type": "code",
   "execution_count": 98,
   "id": "21d9a2ff-160c-418d-8a91-0313bfb2d372",
   "metadata": {},
   "outputs": [
    {
     "name": "stdout",
     "output_type": "stream",
     "text": [
      "Hi my name is pawan, i am 17 years old\n"
     ]
    }
   ],
   "source": [
    "a = 17\n",
    "print(\"Hi my name is pawan, i am {} years old\".format(a))"
   ]
  },
  {
   "cell_type": "code",
   "execution_count": null,
   "id": "30c4200d-e65e-4192-9dcd-c032c8a013a8",
   "metadata": {},
   "outputs": [],
   "source": []
  }
 ],
 "metadata": {
  "kernelspec": {
   "display_name": "Python 3 (ipykernel)",
   "language": "python",
   "name": "python3"
  },
  "language_info": {
   "codemirror_mode": {
    "name": "ipython",
    "version": 3
   },
   "file_extension": ".py",
   "mimetype": "text/x-python",
   "name": "python",
   "nbconvert_exporter": "python",
   "pygments_lexer": "ipython3",
   "version": "3.11.1"
  }
 },
 "nbformat": 4,
 "nbformat_minor": 5
}
