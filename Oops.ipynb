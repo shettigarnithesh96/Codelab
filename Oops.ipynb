{
 "cells": [
  {
   "cell_type": "markdown",
   "id": "e3058be7-dc0c-4dd3-8d59-e94d88c24d86",
   "metadata": {},
   "source": [
    "## Class and Objects\n",
    "#### class is like an blueprint\n",
    "#### class name should start with capital letter\n",
    "#### class is used to reduce the line of code\n",
    "#### Attribute : characteristic\n",
    "#### Function : working\n",
    "#### class is more secure than function\n",
    "#### syntax: class classname\n",
    "#### object name is classname"
   ]
  },
  {
   "cell_type": "code",
   "execution_count": 21,
   "id": "5ec1620e-6104-4d2c-b72b-6b7d79840808",
   "metadata": {},
   "outputs": [
    {
     "name": "stdin",
     "output_type": "stream",
     "text": [
      "Enter first number: 5\n",
      "Enter second number: 5\n"
     ]
    },
    {
     "name": "stdout",
     "output_type": "stream",
     "text": [
      "10\n",
      "0\n",
      "25\n",
      "1.0\n"
     ]
    }
   ],
   "source": [
    "class Myclass:\n",
    "    x = int(input(\"Enter first number:\"))\n",
    "    y = int(input(\"Enter second number:\"))\n",
    "    sum = x+y\n",
    "    sub = x-y\n",
    "    mul = x*y\n",
    "    div = x/y\n",
    "   \n",
    "p1 = Myclass()    \n",
    "print(p1.sum)\n",
    "print(p1.sub)\n",
    "print(p1.mul)\n",
    "print(p1.div)"
   ]
  },
  {
   "cell_type": "code",
   "execution_count": 19,
   "id": "12e94c43-d812-481e-9bf0-035b48093dfe",
   "metadata": {},
   "outputs": [
    {
     "name": "stdout",
     "output_type": "stream",
     "text": [
      "10\n",
      "10\n"
     ]
    }
   ],
   "source": [
    "class A:\n",
    "    #Default constructor\n",
    "    age = 10\n",
    "    print(age)\n",
    "    #Always use print in default constructor\n",
    "p3 = A()\n",
    "print(p3.age) "
   ]
  },
  {
   "cell_type": "code",
   "execution_count": 38,
   "id": "dcd83fb5-af94-44be-a870-822980bab146",
   "metadata": {},
   "outputs": [
    {
     "name": "stdin",
     "output_type": "stream",
     "text": [
      "Enter age: 9\n"
     ]
    },
    {
     "name": "stdout",
     "output_type": "stream",
     "text": [
      "9\n",
      "9\n"
     ]
    }
   ],
   "source": [
    "class A:\n",
    "    age = int(input(\"Enter age:\"))\n",
    "    print(age)\n",
    "\n",
    "p3 = A()\n",
    "print(p3.age)"
   ]
  },
  {
   "cell_type": "code",
   "execution_count": 21,
   "id": "0e4fbfc1-012f-49d4-a425-ccb758f70d77",
   "metadata": {},
   "outputs": [
    {
     "name": "stdout",
     "output_type": "stream",
     "text": [
      "10\n",
      "10\n"
     ]
    }
   ],
   "source": [
    "class A:\n",
    "    def __init__(self):    #user defined constructor\n",
    "        age = 10\n",
    "        print(age)\n",
    "        \n",
    "obj = A() #Obj name is used when using user defined constructor\n",
    "obj = A()"
   ]
  },
  {
   "cell_type": "code",
   "execution_count": 22,
   "id": "44b2fb83-b44a-4921-a5d0-c3c961cceb18",
   "metadata": {
    "scrolled": true
   },
   "outputs": [
    {
     "name": "stdout",
     "output_type": "stream",
     "text": [
      "10\n",
      "10\n",
      "10\n",
      "learn coding...\n"
     ]
    }
   ],
   "source": [
    "class a:\n",
    "    \"learn coding...\" #Document\n",
    "    age = 10\n",
    "    print(age)\n",
    "obj = a()\n",
    "print(obj.age)\n",
    "print(a.age)\n",
    "print(obj.__doc__) #Used to print Document"
   ]
  },
  {
   "cell_type": "code",
   "execution_count": 32,
   "id": "cbfe9641-c322-4291-ac8d-c0be505ce9fa",
   "metadata": {},
   "outputs": [
    {
     "name": "stdout",
     "output_type": "stream",
     "text": [
      "10   ram   mangalore\n",
      "17   pawan   bantwal\n",
      "20   Nithesh   punjalkatte\n",
      "19   ronith   b.c road\n"
     ]
    }
   ],
   "source": [
    "class a:\n",
    "    age = 10\n",
    "    def func(self,name,age,address):\n",
    "        print(name,\" \",age,\" \",address)\n",
    "obj = a()\n",
    "obj.func(10,\"ram\",\"mangalore\")\n",
    "obj.func(17,\"pawan\",\"bantwal\")\n",
    "obj.func(20,\"Nithesh\",\"punjalkatte\")\n",
    "obj.func(19,\"ronith\",\"b.c road\")"
   ]
  },
  {
   "cell_type": "code",
   "execution_count": 35,
   "id": "0dba0692-3f83-4bd6-b659-c94a1f1bf84d",
   "metadata": {},
   "outputs": [
    {
     "name": "stdout",
     "output_type": "stream",
     "text": [
      "10   ram   mangalore\n",
      "17   pawan   bantwal\n",
      "20   Nithesh   punjalkatte\n",
      "19   ronith   b.c road\n"
     ]
    }
   ],
   "source": [
    "class a:\n",
    "    def __init__(self,name,age,address):\n",
    "        print(name,\" \",age,\" \",address)\n",
    "obj = a(10,\"ram\",\"mangalore\")\n",
    "obj = a(17,\"pawan\",\"bantwal\")\n",
    "obj = a(20,\"Nithesh\",\"punjalkatte\")\n",
    "obj = a(19,\"ronith\",\"b.c road\")"
   ]
  }
 ],
 "metadata": {
  "kernelspec": {
   "display_name": "Python 3 (ipykernel)",
   "language": "python",
   "name": "python3"
  },
  "language_info": {
   "codemirror_mode": {
    "name": "ipython",
    "version": 3
   },
   "file_extension": ".py",
   "mimetype": "text/x-python",
   "name": "python",
   "nbconvert_exporter": "python",
   "pygments_lexer": "ipython3",
   "version": "3.11.1"
  }
 },
 "nbformat": 4,
 "nbformat_minor": 5
}
