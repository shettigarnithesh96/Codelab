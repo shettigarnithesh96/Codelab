{
 "cells": [
  {
   "cell_type": "markdown",
   "id": "3849db1e-8678-4967-a7d1-0bc8ae09424e",
   "metadata": {},
   "source": [
    "##### what is Linear Regression\n",
    "##### why it is used\n",
    "##### how it is different from other Algorithm\n",
    "##### what it is popular for"
   ]
  },
  {
   "cell_type": "code",
   "execution_count": null,
   "id": "727a8ce1-64ef-4eef-990e-5415f4ca5bd2",
   "metadata": {},
   "outputs": [],
   "source": []
  }
 ],
 "metadata": {
  "kernelspec": {
   "display_name": "Python 3 (ipykernel)",
   "language": "python",
   "name": "python3"
  },
  "language_info": {
   "codemirror_mode": {
    "name": "ipython",
    "version": 3
   },
   "file_extension": ".py",
   "mimetype": "text/x-python",
   "name": "python",
   "nbconvert_exporter": "python",
   "pygments_lexer": "ipython3",
   "version": "3.11.1"
  }
 },
 "nbformat": 4,
 "nbformat_minor": 5
}
