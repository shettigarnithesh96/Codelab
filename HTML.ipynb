{
 "cells": [
  {
   "cell_type": "code",
   "execution_count": null,
   "id": "c03b789c-4ca5-413f-b104-268e262c1a23",
   "metadata": {},
   "outputs": [],
   "source": [
    "# Start to End tag = Element\n",
    "# attribute is written inside start tag\n",
    "# attribute syntax : Name = \"value\"\n",
    "# <div> tag is used as container or divisions in the document"
   ]
  },
  {
   "cell_type": "code",
   "execution_count": null,
   "id": "f4ab9e86-7500-4c93-b3ad-7ef453c7847d",
   "metadata": {},
   "outputs": [],
   "source": [
    "# css 3 types:\n",
    "# inline css - style attribute which are written inside tag\n",
    "# internal css - written in head tag\n",
    "# external css - creating seperate file"
   ]
  },
  {
   "cell_type": "code",
   "execution_count": null,
   "id": "ceb12ade-14f7-44d8-9371-6be5a6585f3d",
   "metadata": {},
   "outputs": [],
   "source": [
    "# <br></br> - break\n",
    "# <pre></pre> - predefined"
   ]
  },
  {
   "cell_type": "code",
   "execution_count": null,
   "id": "c255c7a1-6c59-4352-a4c7-5c1cfb542289",
   "metadata": {},
   "outputs": [],
   "source": [
    "# Formatting\n",
    "# <b> - Bold\n",
    "# <i> - Italic\n",
    "# <Strong>\n",
    "# <em> - Emphasized text\n",
    "# <u> - Underline\n",
    "# <ins> - inserted text\n",
    "# <sub> - Subscript\n",
    "# <sup> - Superscript"
   ]
  },
  {
   "cell_type": "code",
   "execution_count": null,
   "id": "91587ea5-3705-45c5-a468-c10be7ecbc02",
   "metadata": {},
   "outputs": [],
   "source": [
    "# <img src = >\n",
    "# alt - attribute\n"
   ]
  }
 ],
 "metadata": {
  "kernelspec": {
   "display_name": "Python 3 (ipykernel)",
   "language": "python",
   "name": "python3"
  },
  "language_info": {
   "codemirror_mode": {
    "name": "ipython",
    "version": 3
   },
   "file_extension": ".py",
   "mimetype": "text/x-python",
   "name": "python",
   "nbconvert_exporter": "python",
   "pygments_lexer": "ipython3",
   "version": "3.11.1"
  }
 },
 "nbformat": 4,
 "nbformat_minor": 5
}
