{
 "cells": [
  {
   "cell_type": "markdown",
   "id": "2dcc1b48-ec7b-44d7-b73d-92520cbfa566",
   "metadata": {},
   "source": [
    "### Pandas\n",
    "##### Used for Preprocessing\n",
    "##### Series - 1dimension,(Unique)\n",
    "##### DataFrame - more than 1dimension\n",
    "##### Numpy array can be converted to Pandas series, But Pandas series can not be converted to Numpy array"
   ]
  },
  {
   "cell_type": "markdown",
   "id": "a8ffbeeb-67d3-4bcc-97d2-60ada715aa6f",
   "metadata": {},
   "source": [
    "## Pandas Series"
   ]
  },
  {
   "cell_type": "raw",
   "id": "87d0adb8-f5ce-4722-9f09-87ff6ccfb183",
   "metadata": {},
   "source": [
    "#Creating Series\n",
    "import pandas as pd"
   ]
  },
  {
   "cell_type": "code",
   "execution_count": 3,
   "id": "872d770e-b28c-4b61-a4cb-7d7cf8b53d8b",
   "metadata": {},
   "outputs": [
    {
     "name": "stdout",
     "output_type": "stream",
     "text": [
      "0    12\n",
      "1    -4\n",
      "2     7\n",
      "3     9\n",
      "dtype: int64\n",
      "<class 'pandas.core.series.Series'>\n",
      "[12 -4  7  9]\n",
      "RangeIndex(start=0, stop=4, step=1)\n"
     ]
    }
   ],
   "source": [
    "a = pd.Series([12,-4,7,9])\n",
    "print(a)\n",
    "print(type(a))\n",
    "print(a.values)\n",
    "print(a.index)"
   ]
  },
  {
   "cell_type": "code",
   "execution_count": 4,
   "id": "aac7ba13-83e6-4943-9df0-4eb1135885d8",
   "metadata": {},
   "outputs": [
    {
     "name": "stdout",
     "output_type": "stream",
     "text": [
      "a    12\n",
      "b    -4\n",
      "c     7\n",
      "d     9\n",
      "dtype: int64\n",
      "[12 -4  7  9]\n",
      "Index(['a', 'b', 'c', 'd'], dtype='object')\n"
     ]
    }
   ],
   "source": [
    "#Creating series with user defines row-index\n",
    "b = pd.Series([12,-4,7,9], index = ['a','b','c','d'])\n",
    "print(b)\n",
    "#Retrieving values and index\n",
    "print(b.values)\n",
    "print(b.index)"
   ]
  },
  {
   "cell_type": "code",
   "execution_count": 13,
   "id": "905afb3d-35b2-45a0-b78e-9702ff888396",
   "metadata": {},
   "outputs": [
    {
     "name": "stdout",
     "output_type": "stream",
     "text": [
      "7\n",
      "7\n",
      "a    12\n",
      "b    -4\n",
      "dtype: int64\n",
      "a    12\n",
      "b    -4\n",
      "c     7\n",
      "dtype: int64\n"
     ]
    },
    {
     "name": "stderr",
     "output_type": "stream",
     "text": [
      "C:\\Users\\Aspir\\AppData\\Local\\Temp\\ipykernel_26824\\2921248488.py:1: FutureWarning: Series.__getitem__ treating keys as positions is deprecated. In a future version, integer keys will always be treated as labels (consistent with DataFrame behavior). To access a value by position, use `ser.iloc[pos]`\n",
      "  print(b[2])\n"
     ]
    }
   ],
   "source": [
    "print(b[2])\n",
    "print(b['c'])\n",
    "print(b[0:2])\n",
    "print(b['a':'c'])"
   ]
  },
  {
   "cell_type": "code",
   "execution_count": 16,
   "id": "b6f37291-ba64-4f06-9c3f-4b53daaa5146",
   "metadata": {},
   "outputs": [
    {
     "name": "stdout",
     "output_type": "stream",
     "text": [
      "-4\n"
     ]
    }
   ],
   "source": [
    "print(b['b'])"
   ]
  },
  {
   "cell_type": "code",
   "execution_count": 19,
   "id": "a1baa579-1bbf-47ba-adf8-3dfb6aa59906",
   "metadata": {},
   "outputs": [
    {
     "name": "stdout",
     "output_type": "stream",
     "text": [
      "5\n"
     ]
    },
    {
     "name": "stderr",
     "output_type": "stream",
     "text": [
      "C:\\Users\\Aspir\\AppData\\Local\\Temp\\ipykernel_26824\\1452052274.py:1: FutureWarning: Series.__setitem__ treating keys as positions is deprecated. In a future version, integer keys will always be treated as labels (consistent with DataFrame behavior). To set a value by position, use `ser.iloc[pos] = value`\n",
      "  b[1] = 5\n",
      "C:\\Users\\Aspir\\AppData\\Local\\Temp\\ipykernel_26824\\1452052274.py:2: FutureWarning: Series.__getitem__ treating keys as positions is deprecated. In a future version, integer keys will always be treated as labels (consistent with DataFrame behavior). To access a value by position, use `ser.iloc[pos]`\n",
      "  print(b[1])\n"
     ]
    }
   ],
   "source": [
    "b[1] = 5\n",
    "print(b[1])"
   ]
  },
  {
   "cell_type": "code",
   "execution_count": 22,
   "id": "4a9302a5-882e-4d11-b301-f3b6d6af6d90",
   "metadata": {},
   "outputs": [
    {
     "name": "stdout",
     "output_type": "stream",
     "text": [
      "6\n"
     ]
    },
    {
     "name": "stderr",
     "output_type": "stream",
     "text": [
      "C:\\Users\\Aspir\\AppData\\Local\\Temp\\ipykernel_26824\\3459437454.py:1: FutureWarning: Series.__getitem__ treating keys as positions is deprecated. In a future version, integer keys will always be treated as labels (consistent with DataFrame behavior). To access a value by position, use `ser.iloc[pos]`\n",
      "  b[3]\n",
      "C:\\Users\\Aspir\\AppData\\Local\\Temp\\ipykernel_26824\\3459437454.py:2: FutureWarning: Series.__getitem__ treating keys as positions is deprecated. In a future version, integer keys will always be treated as labels (consistent with DataFrame behavior). To access a value by position, use `ser.iloc[pos]`\n",
      "  print(b[3])\n"
     ]
    }
   ],
   "source": [
    "b[3]\n",
    "print(b[3])"
   ]
  },
  {
   "cell_type": "code",
   "execution_count": 20,
   "id": "0d0cd494-c7d1-4917-9e35-600c5bccf184",
   "metadata": {},
   "outputs": [
    {
     "name": "stdout",
     "output_type": "stream",
     "text": [
      "6\n"
     ]
    },
    {
     "name": "stderr",
     "output_type": "stream",
     "text": [
      "C:\\Users\\Aspir\\AppData\\Local\\Temp\\ipykernel_26824\\3803783470.py:1: FutureWarning: Series.__setitem__ treating keys as positions is deprecated. In a future version, integer keys will always be treated as labels (consistent with DataFrame behavior). To set a value by position, use `ser.iloc[pos] = value`\n",
      "  b[3] = 6\n",
      "C:\\Users\\Aspir\\AppData\\Local\\Temp\\ipykernel_26824\\3803783470.py:2: FutureWarning: Series.__getitem__ treating keys as positions is deprecated. In a future version, integer keys will always be treated as labels (consistent with DataFrame behavior). To access a value by position, use `ser.iloc[pos]`\n",
      "  print(b[3])\n"
     ]
    }
   ],
   "source": [
    "b[3] = 6\n",
    "print(b[3])"
   ]
  },
  {
   "cell_type": "code",
   "execution_count": 24,
   "id": "cc79c251-295c-4bd3-be0b-34d875a07342",
   "metadata": {},
   "outputs": [
    {
     "name": "stdout",
     "output_type": "stream",
     "text": [
      "[1 2 3 4]\n"
     ]
    }
   ],
   "source": [
    "#Creating series from ndarray\n",
    "import numpy as np\n",
    "x = np.array([1,2,3,4])\n",
    "print(x)"
   ]
  },
  {
   "cell_type": "code",
   "execution_count": 25,
   "id": "cf9b1e7d-ebb9-4d39-acb2-d63fcd2de4e3",
   "metadata": {},
   "outputs": [
    {
     "name": "stdout",
     "output_type": "stream",
     "text": [
      "0    1\n",
      "1    2\n",
      "2    3\n",
      "3    4\n",
      "dtype: int32\n"
     ]
    }
   ],
   "source": [
    "z = pd.Series(x)\n",
    "print(z)"
   ]
  },
  {
   "cell_type": "code",
   "execution_count": 26,
   "id": "a14542cf-49d2-4495-b915-e8c03942d807",
   "metadata": {},
   "outputs": [
    {
     "name": "stdout",
     "output_type": "stream",
     "text": [
      "[1 2 3 4]\n"
     ]
    }
   ],
   "source": [
    "print(x)"
   ]
  },
  {
   "cell_type": "code",
   "execution_count": 30,
   "id": "3fdac0df-e09d-40a6-a178-859d70acca88",
   "metadata": {},
   "outputs": [
    {
     "name": "stdout",
     "output_type": "stream",
     "text": [
      "<class 'numpy.ndarray'>\n",
      "<class 'pandas.core.series.Series'>\n"
     ]
    }
   ],
   "source": [
    "print(type(x))\n",
    "print(type(z))"
   ]
  },
  {
   "cell_type": "code",
   "execution_count": 31,
   "id": "8b118063-0bd4-43f0-aa34-a672c2f2f71f",
   "metadata": {},
   "outputs": [],
   "source": [
    "#filtreing values"
   ]
  },
  {
   "cell_type": "code",
   "execution_count": 33,
   "id": "bf5dcc82-655a-4205-a3f3-4a47c8a77bd3",
   "metadata": {},
   "outputs": [
    {
     "name": "stdout",
     "output_type": "stream",
     "text": [
      "0    12\n",
      "1    -4\n",
      "2     7\n",
      "3     9\n",
      "dtype: int64\n"
     ]
    }
   ],
   "source": [
    "a = pd.Series([12,-4,7,9])\n",
    "print(a)"
   ]
  },
  {
   "cell_type": "code",
   "execution_count": 37,
   "id": "596e7993-f364-4371-99b4-cecf827a69d9",
   "metadata": {},
   "outputs": [
    {
     "name": "stdout",
     "output_type": "stream",
     "text": [
      "0     True\n",
      "1    False\n",
      "2    False\n",
      "3     True\n",
      "dtype: bool\n"
     ]
    }
   ],
   "source": [
    "print(a>8)"
   ]
  },
  {
   "cell_type": "code",
   "execution_count": 35,
   "id": "8872cc31-dcd0-4928-883d-c1ac34fa891c",
   "metadata": {},
   "outputs": [
    {
     "name": "stdout",
     "output_type": "stream",
     "text": [
      "0    12\n",
      "3     9\n",
      "dtype: int64\n"
     ]
    }
   ],
   "source": [
    "print(a[a>8])"
   ]
  },
  {
   "cell_type": "code",
   "execution_count": 38,
   "id": "3400d932-16dc-4149-ac4d-e3249cc468f2",
   "metadata": {},
   "outputs": [
    {
     "name": "stdout",
     "output_type": "stream",
     "text": [
      "0    10\n",
      "1    20\n",
      "2    30\n",
      "3    40\n",
      "4    50\n",
      "dtype: int64\n"
     ]
    }
   ],
   "source": [
    "k = pd.Series([10,20,30,40,50])\n",
    "print(k)"
   ]
  },
  {
   "cell_type": "code",
   "execution_count": 41,
   "id": "de5456f9-32d9-467b-8551-c410ddcaa1ec",
   "metadata": {},
   "outputs": [
    {
     "name": "stdout",
     "output_type": "stream",
     "text": [
      "0    False\n",
      "1    False\n",
      "2    False\n",
      "3    False\n",
      "4     True\n",
      "dtype: bool\n"
     ]
    }
   ],
   "source": [
    "print(k == 50)"
   ]
  },
  {
   "cell_type": "code",
   "execution_count": 42,
   "id": "61c53357-0415-437a-96b1-092a4e70cc1d",
   "metadata": {},
   "outputs": [
    {
     "name": "stdout",
     "output_type": "stream",
     "text": [
      "4    50\n",
      "dtype: int64\n"
     ]
    }
   ],
   "source": [
    "print(k[k == 50])"
   ]
  },
  {
   "cell_type": "code",
   "execution_count": 43,
   "id": "8ac393ad-0e46-47da-a674-c0610d20353a",
   "metadata": {},
   "outputs": [
    {
     "name": "stdout",
     "output_type": "stream",
     "text": [
      "0    10\n",
      "1    20\n",
      "2    30\n",
      "3    40\n",
      "dtype: int64\n"
     ]
    }
   ],
   "source": [
    "print(k[k<50])"
   ]
  },
  {
   "cell_type": "code",
   "execution_count": 45,
   "id": "e9beb770-0f26-4ea8-a162-84b1a8201915",
   "metadata": {},
   "outputs": [
    {
     "name": "stdout",
     "output_type": "stream",
     "text": [
      "4    50\n",
      "dtype: int64\n"
     ]
    }
   ],
   "source": [
    "print(k[k>40])"
   ]
  },
  {
   "cell_type": "code",
   "execution_count": 50,
   "id": "d168b7fc-ce3f-4ba9-95f5-17e275547b2a",
   "metadata": {},
   "outputs": [
    {
     "name": "stdout",
     "output_type": "stream",
     "text": [
      "white     1\n",
      "white     0\n",
      "blue      2\n",
      "green     1\n",
      "green     2\n",
      "yellow    3\n",
      "dtype: int64\n"
     ]
    }
   ],
   "source": [
    "#Evaluating values\n",
    "g = pd.Series([1,0,2,1,2,3],\n",
    "             index = ['white','white','blue','green',\n",
    "                      'green','yellow'])\n",
    "print(g)"
   ]
  },
  {
   "cell_type": "code",
   "execution_count": 58,
   "id": "389fe1da-d37b-411d-a35f-28afd46a8fce",
   "metadata": {},
   "outputs": [
    {
     "name": "stdout",
     "output_type": "stream",
     "text": [
      "[1 0 2 3]\n"
     ]
    }
   ],
   "source": [
    "#Used for preprocessing\n",
    "print(g.unique())"
   ]
  },
  {
   "cell_type": "code",
   "execution_count": 60,
   "id": "b81d2ffb-9aa3-45ad-9f82-c842c50842d9",
   "metadata": {},
   "outputs": [
    {
     "name": "stdout",
     "output_type": "stream",
     "text": [
      "1    2\n",
      "2    2\n",
      "0    1\n",
      "3    1\n",
      "Name: count, dtype: int64\n"
     ]
    }
   ],
   "source": [
    "#Used for preprocessing\n",
    "print(g.value_counts()) #value repeating"
   ]
  },
  {
   "cell_type": "code",
   "execution_count": 61,
   "id": "dfe89383-067e-4f22-bf40-a5d8ef444479",
   "metadata": {},
   "outputs": [
    {
     "name": "stdout",
     "output_type": "stream",
     "text": [
      "white     False\n",
      "white      True\n",
      "blue      False\n",
      "green     False\n",
      "green     False\n",
      "yellow     True\n",
      "dtype: bool\n"
     ]
    }
   ],
   "source": [
    "#Used for preprocessing\n",
    "print(g.isin([0,3]))"
   ]
  },
  {
   "cell_type": "code",
   "execution_count": 62,
   "id": "f5a200ce-e384-4892-807f-79028f785bbb",
   "metadata": {},
   "outputs": [
    {
     "name": "stdout",
     "output_type": "stream",
     "text": [
      "white     0\n",
      "yellow    3\n",
      "dtype: int64\n"
     ]
    }
   ],
   "source": [
    "#Used for preprocessing\n",
    "print(g[g.isin([0,3])])"
   ]
  },
  {
   "cell_type": "code",
   "execution_count": 56,
   "id": "4fd5abc8-07f1-45e3-8816-4f388b64ab2d",
   "metadata": {},
   "outputs": [
    {
     "name": "stdout",
     "output_type": "stream",
     "text": [
      "white    1\n",
      "white    0\n",
      "dtype: int64\n"
     ]
    }
   ],
   "source": [
    "print(g['white'])"
   ]
  },
  {
   "cell_type": "code",
   "execution_count": 66,
   "id": "77e638a5-7715-45dc-b6f9-1dc06c1f8ee7",
   "metadata": {},
   "outputs": [
    {
     "name": "stdout",
     "output_type": "stream",
     "text": [
      "0    1.0\n",
      "1    NaN\n",
      "2    3.5\n",
      "3    NaN\n",
      "4    7.0\n",
      "dtype: float64\n"
     ]
    }
   ],
   "source": [
    "#dropna()\n",
    "data = pd.Series([1,np.NaN,3.5,np.NaN,7])\n",
    "print(data)"
   ]
  },
  {
   "cell_type": "code",
   "execution_count": 67,
   "id": "b0d4934d-4aff-4bea-9ecd-63f8c936c4da",
   "metadata": {},
   "outputs": [
    {
     "name": "stdout",
     "output_type": "stream",
     "text": [
      "0    False\n",
      "1     True\n",
      "2    False\n",
      "3     True\n",
      "4    False\n",
      "dtype: bool\n"
     ]
    }
   ],
   "source": [
    "print(data.isnull())"
   ]
  },
  {
   "cell_type": "code",
   "execution_count": 70,
   "id": "81c9dee2-c419-4438-940d-a0d452d96a69",
   "metadata": {},
   "outputs": [
    {
     "name": "stdout",
     "output_type": "stream",
     "text": [
      "1   NaN\n",
      "3   NaN\n",
      "dtype: float64\n"
     ]
    }
   ],
   "source": [
    "#Used for preprocessing\n",
    "print(data[data.isnull()])"
   ]
  },
  {
   "cell_type": "code",
   "execution_count": 71,
   "id": "0dbe4e35-2a81-407d-96af-48ffd659bd9e",
   "metadata": {},
   "outputs": [
    {
     "name": "stdout",
     "output_type": "stream",
     "text": [
      "2\n"
     ]
    }
   ],
   "source": [
    "#Used for preprocessing\n",
    "print(data.isnull().sum())"
   ]
  },
  {
   "cell_type": "code",
   "execution_count": 72,
   "id": "3badaecf-b94c-4df1-8fde-3263f0df76d6",
   "metadata": {},
   "outputs": [
    {
     "name": "stdout",
     "output_type": "stream",
     "text": [
      "0     True\n",
      "1    False\n",
      "2     True\n",
      "3    False\n",
      "4     True\n",
      "dtype: bool\n"
     ]
    }
   ],
   "source": [
    "print(data.notnull())"
   ]
  },
  {
   "cell_type": "code",
   "execution_count": 73,
   "id": "fd594069-a0c8-412a-ba15-b1dfaaeb8ca3",
   "metadata": {},
   "outputs": [
    {
     "name": "stdout",
     "output_type": "stream",
     "text": [
      "0    1.0\n",
      "2    3.5\n",
      "4    7.0\n",
      "dtype: float64\n"
     ]
    }
   ],
   "source": [
    "print(data[data.notnull()])"
   ]
  },
  {
   "cell_type": "code",
   "execution_count": 74,
   "id": "0ba88f4c-8973-4844-bdb6-ecd2cee1cd71",
   "metadata": {},
   "outputs": [
    {
     "name": "stdout",
     "output_type": "stream",
     "text": [
      "3\n"
     ]
    }
   ],
   "source": [
    "print(data.notnull().sum())"
   ]
  },
  {
   "cell_type": "markdown",
   "id": "5a981348-0f3d-4de8-aa0a-ff72fb44890b",
   "metadata": {},
   "source": [
    "### Droping the null value"
   ]
  },
  {
   "cell_type": "code",
   "execution_count": 75,
   "id": "0a9d4a58-6f74-438b-b013-03b9e8d92bc2",
   "metadata": {},
   "outputs": [
    {
     "name": "stdout",
     "output_type": "stream",
     "text": [
      "0    1.0\n",
      "1    NaN\n",
      "2    3.5\n",
      "3    NaN\n",
      "4    7.0\n",
      "dtype: float64\n"
     ]
    }
   ],
   "source": [
    "data = pd.Series([1,np.NaN,3.5,np.NaN,7])\n",
    "print(data)"
   ]
  },
  {
   "cell_type": "code",
   "execution_count": 77,
   "id": "78f87bc4-4990-439d-9e76-c6471f93df1a",
   "metadata": {},
   "outputs": [
    {
     "name": "stdout",
     "output_type": "stream",
     "text": [
      "0    1.0\n",
      "2    3.5\n",
      "4    7.0\n",
      "dtype: float64\n"
     ]
    }
   ],
   "source": [
    "data2 = data.dropna()\n",
    "print(data2)"
   ]
  },
  {
   "cell_type": "code",
   "execution_count": 78,
   "id": "d0c87896-d434-4c3a-b689-6b52b821a97e",
   "metadata": {},
   "outputs": [
    {
     "name": "stdout",
     "output_type": "stream",
     "text": [
      "0    1.0\n",
      "1    NaN\n",
      "2    3.5\n",
      "3    NaN\n",
      "4    7.0\n",
      "dtype: float64\n"
     ]
    }
   ],
   "source": [
    "print(data)"
   ]
  },
  {
   "cell_type": "code",
   "execution_count": 79,
   "id": "24bf4112-deb8-4b5c-880c-66630e81122f",
   "metadata": {
    "scrolled": true
   },
   "outputs": [
    {
     "name": "stdout",
     "output_type": "stream",
     "text": [
      "0    1.0\n",
      "2    3.5\n",
      "4    7.0\n",
      "dtype: float64\n"
     ]
    }
   ],
   "source": [
    "#inplace is used change anything from the original dataset\n",
    "data.dropna(inplace = True)\n",
    "print(data)"
   ]
  },
  {
   "cell_type": "markdown",
   "id": "03cf0e8e-cfa0-4dca-95e5-33a5f2d06821",
   "metadata": {},
   "source": [
    "### Fillna"
   ]
  },
  {
   "cell_type": "code",
   "execution_count": 81,
   "id": "cda3a078-345b-4fb4-8db6-712b2e043626",
   "metadata": {},
   "outputs": [
    {
     "name": "stdout",
     "output_type": "stream",
     "text": [
      "0    1.0\n",
      "1    NaN\n",
      "2    3.5\n",
      "3    NaN\n",
      "4    7.0\n",
      "dtype: float64\n"
     ]
    }
   ],
   "source": [
    "data = pd.Series([1,np.NaN,3.5,np.NaN,7])\n",
    "print(data)"
   ]
  },
  {
   "cell_type": "code",
   "execution_count": 82,
   "id": "a44c39ac-e5a8-4ac7-a298-3a12017b84cf",
   "metadata": {},
   "outputs": [
    {
     "name": "stdout",
     "output_type": "stream",
     "text": [
      "0    1.0\n",
      "1    0.0\n",
      "2    3.5\n",
      "3    0.0\n",
      "4    7.0\n",
      "dtype: float64\n"
     ]
    }
   ],
   "source": [
    "data3 = data.fillna(0)\n",
    "print(data3)"
   ]
  },
  {
   "cell_type": "code",
   "execution_count": 83,
   "id": "95dbacfe-c582-44fa-82ca-8215951a78da",
   "metadata": {},
   "outputs": [
    {
     "name": "stdout",
     "output_type": "stream",
     "text": [
      "0    1.0\n",
      "1    NaN\n",
      "2    3.5\n",
      "3    NaN\n",
      "4    7.0\n",
      "dtype: float64\n"
     ]
    }
   ],
   "source": [
    "print(data)"
   ]
  },
  {
   "cell_type": "code",
   "execution_count": 84,
   "id": "5b8751d3-2ed1-42e4-b64b-a1156a25a774",
   "metadata": {},
   "outputs": [
    {
     "name": "stdout",
     "output_type": "stream",
     "text": [
      "0    1.0\n",
      "1    3.0\n",
      "2    3.5\n",
      "3    3.0\n",
      "4    7.0\n",
      "dtype: float64\n"
     ]
    }
   ],
   "source": [
    "data.fillna(3,inplace = True)\n",
    "print(data)"
   ]
  },
  {
   "cell_type": "code",
   "execution_count": 86,
   "id": "3e274b62-2715-42bb-bd78-4049c9848dab",
   "metadata": {},
   "outputs": [
    {
     "name": "stdout",
     "output_type": "stream",
     "text": [
      "0    50.0\n",
      "1     NaN\n",
      "2    70.0\n",
      "3    80.0\n",
      "4     NaN\n",
      "dtype: float64\n"
     ]
    }
   ],
   "source": [
    "#Excersise\n",
    "ll = pd.Series([50,np.NaN,70,80,np.NaN])\n",
    "print(ll)"
   ]
  },
  {
   "cell_type": "code",
   "execution_count": 87,
   "id": "6110e00b-fc87-421a-8896-fceead60e82c",
   "metadata": {},
   "outputs": [
    {
     "name": "stdout",
     "output_type": "stream",
     "text": [
      "<class 'pandas.core.series.Series'>\n"
     ]
    }
   ],
   "source": [
    "print(type(ll))"
   ]
  },
  {
   "cell_type": "code",
   "execution_count": 88,
   "id": "fbae66c9-ec5e-4082-8836-51fc6b7158c6",
   "metadata": {},
   "outputs": [
    {
     "name": "stdout",
     "output_type": "stream",
     "text": [
      "[50. nan 70. 80. nan]\n"
     ]
    }
   ],
   "source": [
    "print(ll.values)"
   ]
  },
  {
   "cell_type": "code",
   "execution_count": 89,
   "id": "ab000df1-9414-46cf-82cb-f62963be0c39",
   "metadata": {},
   "outputs": [
    {
     "name": "stdout",
     "output_type": "stream",
     "text": [
      "RangeIndex(start=0, stop=5, step=1)\n"
     ]
    }
   ],
   "source": [
    "print(ll.index)"
   ]
  },
  {
   "cell_type": "code",
   "execution_count": 92,
   "id": "d895830e-b351-45be-b2b1-9ade501974e9",
   "metadata": {},
   "outputs": [
    {
     "name": "stdout",
     "output_type": "stream",
     "text": [
      "0    50.0\n",
      "1     NaN\n",
      "2    60.0\n",
      "3    70.0\n",
      "4     NaN\n",
      "dtype: float64\n"
     ]
    }
   ],
   "source": [
    "ll[2] = 60\n",
    "print(ll)"
   ]
  },
  {
   "cell_type": "code",
   "execution_count": 93,
   "id": "9456d4c0-abf8-48be-9ef7-1252f05c0a25",
   "metadata": {},
   "outputs": [
    {
     "name": "stdout",
     "output_type": "stream",
     "text": [
      "0    50.0\n",
      "1     NaN\n",
      "2    60.0\n",
      "3    70.0\n",
      "4     NaN\n",
      "dtype: float64\n"
     ]
    }
   ],
   "source": [
    "ll[3] = 70\n",
    "print(ll)"
   ]
  },
  {
   "cell_type": "code",
   "execution_count": 94,
   "id": "7dcc993b-e75e-4d1b-b141-a707b907b989",
   "metadata": {},
   "outputs": [
    {
     "name": "stdout",
     "output_type": "stream",
     "text": [
      "[50. nan 60. 70.]\n"
     ]
    }
   ],
   "source": [
    "print(ll.unique())"
   ]
  },
  {
   "cell_type": "code",
   "execution_count": 95,
   "id": "a972ee0b-db13-4ef9-b99e-01563e15885e",
   "metadata": {},
   "outputs": [
    {
     "name": "stdout",
     "output_type": "stream",
     "text": [
      "50.0    1\n",
      "60.0    1\n",
      "70.0    1\n",
      "Name: count, dtype: int64\n"
     ]
    }
   ],
   "source": [
    "print(ll.value_counts())"
   ]
  },
  {
   "cell_type": "code",
   "execution_count": 96,
   "id": "57167115-63ec-4163-ab43-b22d06a5c714",
   "metadata": {},
   "outputs": [
    {
     "name": "stdout",
     "output_type": "stream",
     "text": [
      "2    60.0\n",
      "dtype: float64\n"
     ]
    }
   ],
   "source": [
    "print(ll[ll.isin([0,60])])"
   ]
  },
  {
   "cell_type": "code",
   "execution_count": 97,
   "id": "9539c74a-6590-476d-a5e1-27ae446a76fa",
   "metadata": {},
   "outputs": [
    {
     "name": "stdout",
     "output_type": "stream",
     "text": [
      "1   NaN\n",
      "4   NaN\n",
      "dtype: float64\n"
     ]
    }
   ],
   "source": [
    "print(ll[ll.isnull()])"
   ]
  },
  {
   "cell_type": "code",
   "execution_count": 98,
   "id": "9c189b5e-ad17-49bc-ac6e-1608022cc440",
   "metadata": {},
   "outputs": [
    {
     "name": "stdout",
     "output_type": "stream",
     "text": [
      "2\n"
     ]
    }
   ],
   "source": [
    "print(ll.isnull().sum())"
   ]
  },
  {
   "cell_type": "code",
   "execution_count": 100,
   "id": "037ba69d-d187-4411-8fe3-ae9e852550b3",
   "metadata": {},
   "outputs": [
    {
     "name": "stdout",
     "output_type": "stream",
     "text": [
      "0    50.0\n",
      "1    20.0\n",
      "2    60.0\n",
      "3    70.0\n",
      "4    20.0\n",
      "dtype: float64\n"
     ]
    }
   ],
   "source": [
    "ll.fillna(20,inplace = True)\n",
    "print(ll)"
   ]
  },
  {
   "cell_type": "code",
   "execution_count": 101,
   "id": "52d30752-3e86-4e61-ae08-edfa9e48b292",
   "metadata": {},
   "outputs": [
    {
     "name": "stdout",
     "output_type": "stream",
     "text": [
      "0    50.0\n",
      "1    20.0\n",
      "2    60.0\n",
      "3    70.0\n",
      "4    20.0\n",
      "dtype: float64\n"
     ]
    }
   ],
   "source": [
    "ll.dropna(inplace = True)\n",
    "print(ll)"
   ]
  },
  {
   "cell_type": "code",
   "execution_count": null,
   "id": "1a278c13-4940-4a3d-9c61-52a3e5a84981",
   "metadata": {},
   "outputs": [],
   "source": []
  }
 ],
 "metadata": {
  "kernelspec": {
   "display_name": "Python 3 (ipykernel)",
   "language": "python",
   "name": "python3"
  },
  "language_info": {
   "codemirror_mode": {
    "name": "ipython",
    "version": 3
   },
   "file_extension": ".py",
   "mimetype": "text/x-python",
   "name": "python",
   "nbconvert_exporter": "python",
   "pygments_lexer": "ipython3",
   "version": "3.11.1"
  }
 },
 "nbformat": 4,
 "nbformat_minor": 5
}
