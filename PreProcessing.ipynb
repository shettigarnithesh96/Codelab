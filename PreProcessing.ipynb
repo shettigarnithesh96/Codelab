{
 "cells": [
  {
   "cell_type": "markdown",
   "id": "23a58abd-1717-4b7a-b209-a69eeab7f5ba",
   "metadata": {},
   "source": [
    "##### ordinal - have order, ex-good,bad,worst()\n",
    "##### nominal - does not have order, ex-colors(red,yellow,black,etc.)\n",
    "##### pd.get_dummies is used when the dataset is small.It creates columns for every row"
   ]
  },
  {
   "cell_type": "markdown",
   "id": "1fb5b045-0924-4f76-9214-9048b441fa20",
   "metadata": {},
   "source": [
    "### LabelEncoder"
   ]
  },
  {
   "cell_type": "code",
   "execution_count": 3,
   "id": "d080be78-9ee0-4994-8d0a-f12b17c0dce0",
   "metadata": {},
   "outputs": [
    {
     "name": "stdout",
     "output_type": "stream",
     "text": [
      "Original categories: ['red', 'blue', 'green', 'red', 'yellow']\n",
      "Encoded categories: [2 0 1 2 3]\n"
     ]
    }
   ],
   "source": [
    "from sklearn.preprocessing import LabelEncoder\n",
    "\n",
    "#sample data\n",
    "categories = ['red','blue','green','red','yellow']\n",
    "\n",
    "#Initialize the Encoder\n",
    "le = LabelEncoder()\n",
    "\n",
    "#Fit and transform the categorical data\n",
    "encoded_categories = le.fit_transform(categories)\n",
    "\n",
    "#Display the original and encoded data\n",
    "print(\"Original categories:\",categories)\n",
    "print(\"Encoded categories:\",encoded_categories)"
   ]
  },
  {
   "cell_type": "markdown",
   "id": "f4aaae25-1118-49f8-a5f3-239f79d79a6c",
   "metadata": {},
   "source": [
    "### get_dummies()"
   ]
  },
  {
   "cell_type": "code",
   "execution_count": 4,
   "id": "1f4897eb-1193-43fd-b7a0-787a77abbe0c",
   "metadata": {},
   "outputs": [
    {
     "name": "stdout",
     "output_type": "stream",
     "text": [
      "Original DataFrame:\n",
      "  Category1 Category2  Value\n",
      "0         A         X     10\n",
      "1         B         Y     20\n",
      "2         A         Z     15\n",
      "3         C         X     25\n",
      "4         B         Z     30\n",
      "5         C         Y     22\n",
      "\n",
      "One-Hot Encoded DataFrame:\n",
      "   Value  Category1_A  Category1_B  Category1_C  Category2_X  Category2_Y  \\\n",
      "0     10         True        False        False         True        False   \n",
      "1     20        False         True        False        False         True   \n",
      "2     15         True        False        False        False        False   \n",
      "3     25        False        False         True         True        False   \n",
      "4     30        False         True        False        False        False   \n",
      "5     22        False        False         True        False         True   \n",
      "\n",
      "   Category2_Z  \n",
      "0        False  \n",
      "1        False  \n",
      "2         True  \n",
      "3        False  \n",
      "4         True  \n",
      "5        False  \n"
     ]
    }
   ],
   "source": [
    "import pandas as pd\n",
    "\n",
    "#Sample data\n",
    "data = {'Category1' : ['A','B','A','C','B','C'],\n",
    "        'Category2' : ['X','Y','Z','X','Z','Y'],\n",
    "        'Value' : [10,20,15,25,30,22]}\n",
    "df = pd.DataFrame(data)\n",
    "\n",
    "#Using get_dummies for one-hot encoding on all columns\n",
    "df_encoded = pd.get_dummies(df,columns = ['Category1','Category2'])\n",
    "\n",
    "#Display the result\n",
    "print(\"Original DataFrame:\")\n",
    "print(df)\n",
    "print(\"\\nOne-Hot Encoded DataFrame:\")\n",
    "print(df_encoded)"
   ]
  },
  {
   "cell_type": "code",
   "execution_count": 12,
   "id": "68b9e092-5245-4b24-999e-c7e698ae330c",
   "metadata": {},
   "outputs": [
    {
     "name": "stdout",
     "output_type": "stream",
     "text": [
      "Original Category1: 0    A\n",
      "1    B\n",
      "2    A\n",
      "3    C\n",
      "4    B\n",
      "5    C\n",
      "Name: Category1, dtype: object\n",
      "Encoded Category: [0 1 0 2 1 2]\n"
     ]
    }
   ],
   "source": [
    "le = LabelEncoder()\n",
    "encoded_df = le.fit_transform(df['Category1'])\n",
    "print('Original Category1:',df['Category1'])\n",
    "print('Encoded Category:',encoded_df)"
   ]
  },
  {
   "cell_type": "code",
   "execution_count": 8,
   "id": "b6eff1f5-80d6-48bb-82f7-925a2ece7311",
   "metadata": {},
   "outputs": [
    {
     "name": "stdout",
     "output_type": "stream",
     "text": [
      "Original Category2: 0    X\n",
      "1    Y\n",
      "2    Z\n",
      "3    X\n",
      "4    Z\n",
      "5    Y\n",
      "Name: Category2, dtype: object\n",
      "Encoded Category: [0 1 2 0 2 1]\n"
     ]
    }
   ],
   "source": [
    "encoded_df = le.fit_transform(df['Category2'])\n",
    "print('Original Category2:',df['Category2'])\n",
    "print('Encoded Category:',encoded_df)"
   ]
  },
  {
   "cell_type": "code",
   "execution_count": null,
   "id": "cbe901d6-f291-460c-a45d-8a06972c0248",
   "metadata": {},
   "outputs": [],
   "source": []
  }
 ],
 "metadata": {
  "kernelspec": {
   "display_name": "Python 3 (ipykernel)",
   "language": "python",
   "name": "python3"
  },
  "language_info": {
   "codemirror_mode": {
    "name": "ipython",
    "version": 3
   },
   "file_extension": ".py",
   "mimetype": "text/x-python",
   "name": "python",
   "nbconvert_exporter": "python",
   "pygments_lexer": "ipython3",
   "version": "3.11.1"
  }
 },
 "nbformat": 4,
 "nbformat_minor": 5
}
