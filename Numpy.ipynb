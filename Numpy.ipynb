{
 "cells": [
  {
   "cell_type": "code",
   "execution_count": 21,
   "id": "16fd0a93-839a-4096-b357-2e9945b98275",
   "metadata": {},
   "outputs": [],
   "source": [
    "#Numpy stands for numerical python\n",
    "#Collection of same type of Datatype and\n",
    "#Homogenous\n",
    "import numpy as np"
   ]
  },
  {
   "cell_type": "code",
   "execution_count": 6,
   "id": "be39474b-5bfb-4eb3-b3f0-015dce3e66a3",
   "metadata": {},
   "outputs": [
    {
     "name": "stdout",
     "output_type": "stream",
     "text": [
      "[1 2 3 4 5]\n",
      "<class 'numpy.ndarray'>\n",
      "int32\n"
     ]
    }
   ],
   "source": [
    "#ndarray\n",
    "x = np.array([1,2,3,4,5])\n",
    "print(x)\n",
    "print(type(x))\n",
    "print(x.dtype)"
   ]
  },
  {
   "cell_type": "code",
   "execution_count": 7,
   "id": "d3a1a92f-16b3-469b-8bee-445e4fcc9572",
   "metadata": {},
   "outputs": [
    {
     "name": "stdout",
     "output_type": "stream",
     "text": [
      "1\n",
      "(5,)\n",
      "5\n",
      "4\n"
     ]
    }
   ],
   "source": [
    "print(x.ndim) #number of dimensions\n",
    "print(x.shape) #number of rows and columns\n",
    "print(x.size) #len of ndarray\n",
    "print(x.itemsize) #bytes allocated by"
   ]
  },
  {
   "cell_type": "code",
   "execution_count": 11,
   "id": "e8ecf312-33a7-4ad4-becf-b119a3465566",
   "metadata": {},
   "outputs": [
    {
     "name": "stdout",
     "output_type": "stream",
     "text": [
      "[[1 2 3 4 5]\n",
      " [6 7 8 9 0]]\n",
      "<class 'numpy.ndarray'>\n"
     ]
    }
   ],
   "source": [
    "y = np.array([[1,2,3,4,5],[6,7,8,9,0]])\n",
    "print(y)\n",
    "print(type(y))"
   ]
  },
  {
   "cell_type": "code",
   "execution_count": 14,
   "id": "8f0c5490-d1e3-4809-b8a5-35e9409a9dda",
   "metadata": {},
   "outputs": [
    {
     "name": "stdout",
     "output_type": "stream",
     "text": [
      "int32\n",
      "2\n",
      "(5,)\n",
      "5\n",
      "4\n"
     ]
    }
   ],
   "source": [
    "print(y.dtype)\n",
    "print(y.ndim)\n",
    "print(x.shape)\n",
    "print(x.size)\n",
    "print(x.itemsize)"
   ]
  },
  {
   "cell_type": "code",
   "execution_count": 16,
   "id": "7b3a7fd8-bd94-4c9b-b31a-eec26ecab90d",
   "metadata": {},
   "outputs": [
    {
     "name": "stdout",
     "output_type": "stream",
     "text": [
      "[[1.1 2.2 3.3 4.4 5.5]\n",
      " [6.6 7.7 8.8 9.9 0. ]]\n",
      "<class 'numpy.ndarray'>\n"
     ]
    }
   ],
   "source": [
    "z = np.array([[1.1,2.2,3.3,4.4,5.5],[6.6,7.7,8.8,9.9,0.0]])\n",
    "print(z)\n",
    "print(type(z))"
   ]
  },
  {
   "cell_type": "code",
   "execution_count": 17,
   "id": "31d2638a-99a6-4442-9624-10df869d6a48",
   "metadata": {},
   "outputs": [
    {
     "name": "stdout",
     "output_type": "stream",
     "text": [
      "float64\n",
      "2\n",
      "(2, 5)\n",
      "10\n",
      "8\n"
     ]
    }
   ],
   "source": [
    "print(z.dtype)\n",
    "print(z.ndim)\n",
    "print(z.shape)\n",
    "print(z.size)\n",
    "print(z.itemsize)"
   ]
  },
  {
   "cell_type": "code",
   "execution_count": 19,
   "id": "be22beda-bb33-47c6-92d4-bbecee0fc665",
   "metadata": {
    "scrolled": true
   },
   "outputs": [
    {
     "name": "stdout",
     "output_type": "stream",
     "text": [
      "[[1]\n",
      " [2]\n",
      " [3]]\n",
      "<class 'numpy.ndarray'>\n",
      "int32\n",
      "2\n",
      "(3, 1)\n",
      "3\n",
      "4\n"
     ]
    }
   ],
   "source": [
    "w = np.array([[1],\n",
    "              [2],\n",
    "              [3]])\n",
    "print(w)\n",
    "print(type(w))\n",
    "print(w.dtype)\n",
    "print(w.ndim)\n",
    "print(w.shape)\n",
    "print(w.size)\n",
    "print(w.itemsize)"
   ]
  },
  {
   "cell_type": "markdown",
   "id": "913b22a6-c892-469b-9dcf-f469ccff9314",
   "metadata": {},
   "source": [
    "### Type Casting"
   ]
  },
  {
   "cell_type": "code",
   "execution_count": 22,
   "id": "96f41579-34d9-4344-bf9b-52e271b88048",
   "metadata": {},
   "outputs": [
    {
     "name": "stdout",
     "output_type": "stream",
     "text": [
      "[0. 0. 0. 0.]\n"
     ]
    }
   ],
   "source": [
    "a = np.zeros(4)\n",
    "print(a)"
   ]
  },
  {
   "cell_type": "code",
   "execution_count": 23,
   "id": "6fb0de32-9cee-44d7-9e5f-94f56c9e58bd",
   "metadata": {},
   "outputs": [
    {
     "name": "stdout",
     "output_type": "stream",
     "text": [
      "[0 0 0 0]\n"
     ]
    }
   ],
   "source": [
    "b = np.zeros(4,dtype = int)\n",
    "print(b)"
   ]
  },
  {
   "cell_type": "code",
   "execution_count": 24,
   "id": "c3f2ef9e-ddbc-4bd6-8111-c83e126bf5d4",
   "metadata": {},
   "outputs": [
    {
     "name": "stdout",
     "output_type": "stream",
     "text": [
      "[1. 1. 1. 1. 1.]\n"
     ]
    }
   ],
   "source": [
    "c = np.ones(5)\n",
    "print(c)"
   ]
  },
  {
   "cell_type": "code",
   "execution_count": 25,
   "id": "6bdcbb80-154c-4db2-a677-60b43677ed8a",
   "metadata": {},
   "outputs": [
    {
     "name": "stdout",
     "output_type": "stream",
     "text": [
      "[1 1 1 1 1]\n"
     ]
    }
   ],
   "source": [
    "d = np.ones(5,dtype = int)\n",
    "print(d)"
   ]
  },
  {
   "cell_type": "code",
   "execution_count": 26,
   "id": "bc473e82-a20d-44db-b028-f0ce0a136bc3",
   "metadata": {},
   "outputs": [
    {
     "name": "stdout",
     "output_type": "stream",
     "text": [
      "[7 7 7 7 7]\n"
     ]
    }
   ],
   "source": [
    "e = np.full((5,),7)\n",
    "print(e)"
   ]
  },
  {
   "cell_type": "code",
   "execution_count": 27,
   "id": "0de0e82c-9b03-4a91-86d4-f5f84afa075e",
   "metadata": {},
   "outputs": [
    {
     "name": "stdout",
     "output_type": "stream",
     "text": [
      "[[9. 9.]\n",
      " [9. 9.]\n",
      " [9. 9.]]\n"
     ]
    }
   ],
   "source": [
    "f = np.full((3,2),9,dtype = float)\n",
    "print(f)"
   ]
  },
  {
   "cell_type": "code",
   "execution_count": 28,
   "id": "7b6e6821-48d8-4be7-9ad1-0887dec8fabe",
   "metadata": {},
   "outputs": [
    {
     "name": "stdout",
     "output_type": "stream",
     "text": [
      "[[0 0]\n",
      " [0 0]]\n"
     ]
    }
   ],
   "source": [
    "g = np.zeros((2,2),dtype = int)\n",
    "print(g)"
   ]
  },
  {
   "cell_type": "code",
   "execution_count": 32,
   "id": "054ab9c6-7f74-4f4a-abf5-daca9da2cc75",
   "metadata": {},
   "outputs": [
    {
     "name": "stdout",
     "output_type": "stream",
     "text": [
      "[ 1  2  3  4  5  6  7  8  9 10]\n",
      "<class 'numpy.ndarray'>\n"
     ]
    }
   ],
   "source": [
    "j = np.arange(1,11)\n",
    "print(j)\n",
    "print(type(j))"
   ]
  },
  {
   "cell_type": "code",
   "execution_count": 33,
   "id": "9fe2c5a3-42f5-4d87-b3ab-386bb8901411",
   "metadata": {},
   "outputs": [
    {
     "name": "stdout",
     "output_type": "stream",
     "text": [
      "[ 0  5 10 15 20 25 30 35 40 45 50 55 60 65 70 75 80 85 90 95]\n"
     ]
    }
   ],
   "source": [
    "k = np.arange(0,100,5)\n",
    "print(k)"
   ]
  },
  {
   "cell_type": "code",
   "execution_count": 34,
   "id": "551d2319-9e62-43e8-94f6-32f0ce499cb7",
   "metadata": {
    "scrolled": true
   },
   "outputs": [
    {
     "name": "stdout",
     "output_type": "stream",
     "text": [
      "[0.  0.6 1.2 1.8 2.4 3.  3.6 4.2 4.8 5.4]\n"
     ]
    }
   ],
   "source": [
    "l = np.arange(0,6.0,0.6)\n",
    "print(l)"
   ]
  },
  {
   "cell_type": "markdown",
   "id": "0473eeb5-3a91-4fde-8eab-60a9c8209310",
   "metadata": {},
   "source": [
    "### Reshape"
   ]
  },
  {
   "cell_type": "code",
   "execution_count": 37,
   "id": "d4b19f3c-d3e3-463a-8708-9e0fb64d91b3",
   "metadata": {},
   "outputs": [
    {
     "name": "stdout",
     "output_type": "stream",
     "text": [
      "[[ 1  2]\n",
      " [ 3  4]\n",
      " [ 5  6]\n",
      " [ 7  8]\n",
      " [ 9 10]\n",
      " [11 12]\n",
      " [13 14]\n",
      " [15 16]]\n"
     ]
    }
   ],
   "source": [
    "m = np.arange(1,17).reshape(8,2)\n",
    "print(m)"
   ]
  },
  {
   "cell_type": "code",
   "execution_count": 38,
   "id": "2ed6a7af-4e3c-4554-9148-38b9ae0fc7a6",
   "metadata": {},
   "outputs": [
    {
     "name": "stdout",
     "output_type": "stream",
     "text": [
      "[[21 22 23]\n",
      " [24 25 26]\n",
      " [27 28 29]]\n"
     ]
    }
   ],
   "source": [
    "#create an ndarray with 3x3\n",
    "#value should start with 21\n",
    "n = np.arange(21,30).reshape(3,3)\n",
    "print(n)"
   ]
  },
  {
   "cell_type": "code",
   "execution_count": 40,
   "id": "71f3786d-a315-405e-8243-c1527d352c30",
   "metadata": {},
   "outputs": [
    {
     "name": "stdout",
     "output_type": "stream",
     "text": [
      "[[1 2 3]\n",
      " [4 5 6]\n",
      " [7 8 9]]\n",
      "[[11 12 13]\n",
      " [14 15 16]\n",
      " [17 18 19]]\n"
     ]
    }
   ],
   "source": [
    "q = np.arange(1,10).reshape(3,3)\n",
    "print(q)\n",
    "z = np.arange(11,20).reshape(3,3)\n",
    "print(z)"
   ]
  },
  {
   "cell_type": "code",
   "execution_count": 41,
   "id": "e8b19717-bde3-413a-b7d0-820c2572bf72",
   "metadata": {},
   "outputs": [
    {
     "name": "stdout",
     "output_type": "stream",
     "text": [
      "[[12 14 16]\n",
      " [18 20 22]\n",
      " [24 26 28]]\n"
     ]
    }
   ],
   "source": [
    "sum = q+z\n",
    "print(sum)"
   ]
  },
  {
   "cell_type": "code",
   "execution_count": 42,
   "id": "5ec93fef-90e0-4b27-858e-f90f63218cba",
   "metadata": {},
   "outputs": [
    {
     "name": "stdout",
     "output_type": "stream",
     "text": [
      "[[-10 -10 -10]\n",
      " [-10 -10 -10]\n",
      " [-10 -10 -10]]\n"
     ]
    }
   ],
   "source": [
    "sub = q-z\n",
    "print(sub)"
   ]
  },
  {
   "cell_type": "code",
   "execution_count": 43,
   "id": "df45e4b7-5501-4db1-b520-1304e47866d8",
   "metadata": {},
   "outputs": [
    {
     "name": "stdout",
     "output_type": "stream",
     "text": [
      "[1 2 3 4]\n",
      "[1.         1.41421356 1.73205081 2.        ]\n",
      "[0.         0.69314718 1.09861229 1.38629436]\n",
      "[ 0.84147098  0.90929743  0.14112001 -0.7568025 ]\n"
     ]
    }
   ],
   "source": [
    "#Universal Function\n",
    "c4 = np.array([1,2,3,4])\n",
    "print(c4)\n",
    "print(np.sqrt(c4))\n",
    "print(np.log(c4))\n",
    "print(np.sin(c4))"
   ]
  },
  {
   "cell_type": "code",
   "execution_count": 44,
   "id": "dd7fddf9-e58c-4797-8f04-b577388409f1",
   "metadata": {},
   "outputs": [
    {
     "name": "stdout",
     "output_type": "stream",
     "text": [
      "[3.3 4.6 7.8 2.1 1. ]\n",
      "18.8\n",
      "1.0\n",
      "7.8\n",
      "3.7600000000000002\n",
      "2.3499787233079363\n"
     ]
    }
   ],
   "source": [
    "#aggregate function\n",
    "d1 = np.array([3.3,4.6,7.8,2.1,1.0])\n",
    "print(d1)\n",
    "print(d1.sum())\n",
    "print(d1.min())\n",
    "print(d1.max())\n",
    "print(d1.mean())\n",
    "print(d1.std())"
   ]
  },
  {
   "cell_type": "code",
   "execution_count": 45,
   "id": "e1f3abb7-6a77-45ed-aebe-ae1efe79262d",
   "metadata": {},
   "outputs": [
    {
     "name": "stdout",
     "output_type": "stream",
     "text": [
      "Machine Learning\n"
     ]
    }
   ],
   "source": [
    "s1 = \"Machine Learning\"\n",
    "print(s1)"
   ]
  },
  {
   "cell_type": "code",
   "execution_count": 48,
   "id": "a2cb49b6-d4cd-4f68-b83a-d66fc84f9fd8",
   "metadata": {},
   "outputs": [
    {
     "name": "stdout",
     "output_type": "stream",
     "text": [
      "achine \n",
      "Machine Lea\n",
      "e Learning\n",
      "Machine Learning\n"
     ]
    }
   ],
   "source": [
    "print(s1[1:8])\n",
    "print(s1[:11])\n",
    "print(s1[6:])\n",
    "print(s1[:])"
   ]
  },
  {
   "cell_type": "code",
   "execution_count": 50,
   "id": "aa3b1e48-5e71-4d34-95d9-199c094d535b",
   "metadata": {},
   "outputs": [
    {
     "name": "stdout",
     "output_type": "stream",
     "text": [
      "Machine Learning\n",
      "McieLann\n",
      "Mheeng\n"
     ]
    }
   ],
   "source": [
    "#step/stride\n",
    "s1 = \"Machine Learning\"\n",
    "print(s1[::1]) #skip 0 char\n",
    "print(s1[::2]) #skip 1 char\n",
    "print(s1[::3]) #skip 2 char"
   ]
  },
  {
   "cell_type": "code",
   "execution_count": 51,
   "id": "f009aa91-917a-4360-b766-9d62b3ec4e58",
   "metadata": {},
   "outputs": [
    {
     "name": "stdout",
     "output_type": "stream",
     "text": [
      "cieLann\n",
      "ahn eri\n"
     ]
    }
   ],
   "source": [
    "print(s1[2:15:2])\n",
    "print(s1[1:14:2])"
   ]
  },
  {
   "cell_type": "code",
   "execution_count": null,
   "id": "b9bc2902-b285-4be5-b3ac-d78de973c0b2",
   "metadata": {},
   "outputs": [],
   "source": []
  }
 ],
 "metadata": {
  "kernelspec": {
   "display_name": "Python 3 (ipykernel)",
   "language": "python",
   "name": "python3"
  },
  "language_info": {
   "codemirror_mode": {
    "name": "ipython",
    "version": 3
   },
   "file_extension": ".py",
   "mimetype": "text/x-python",
   "name": "python",
   "nbconvert_exporter": "python",
   "pygments_lexer": "ipython3",
   "version": "3.11.1"
  }
 },
 "nbformat": 4,
 "nbformat_minor": 5
}
