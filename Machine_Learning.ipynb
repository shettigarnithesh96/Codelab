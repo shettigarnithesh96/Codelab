{
 "cells": [
  {
   "cell_type": "markdown",
   "id": "57099a60-49d7-4401-8e50-4d60bb457099",
   "metadata": {},
   "source": [
    "##### Machine learning is a subset of AI,which enables the machine to automatically learn from data, improve performance from past experiences.\n",
    "##### Types of data - Structured, Semi-structured, Unstructured data\n",
    "##### Structured - Rows and Columns. ex - MySql database.\n",
    "##### Semi-Structured - No rows and columns. ex - Mail,MongoDB\n",
    "##### Unstructured - Images, Videos.\n",
    "##### Classification :\n",
    "##### Logistic Regression - Use when you have two categories to predict, like whether an email is spam or not spam. Provides better output than any algorithm when the dataset is small.\n",
    "##### Decision Tree\n",
    "##### Random Forest\n",
    "##### SVM (Support Vector Machine)\n",
    "##### KNN(K Nearest Neighbour)\n",
    "##### Naive Bayes\n",
    "##### Regression :\n",
    "##### Linear Regression\n",
    "##### Ridge Regression\n",
    "##### Lasso Regression\n",
    "##### Decision Tree\n",
    "##### Random Forest"
   ]
  },
  {
   "cell_type": "code",
   "execution_count": 59,
   "id": "c857a9fe-c9c8-4b77-b030-5b060af46604",
   "metadata": {},
   "outputs": [
    {
     "name": "stdout",
     "output_type": "stream",
     "text": [
      "Logistic Regression model accuracy (in %): 98.24561403508771\n"
     ]
    },
    {
     "name": "stderr",
     "output_type": "stream",
     "text": [
      "C:\\Users\\Aspir\\AppData\\Local\\Programs\\Python\\Python311\\Lib\\site-packages\\sklearn\\linear_model\\_logistic.py:460: ConvergenceWarning: lbfgs failed to converge (status=1):\n",
      "STOP: TOTAL NO. of ITERATIONS REACHED LIMIT.\n",
      "\n",
      "Increase the number of iterations (max_iter) or scale the data as shown in:\n",
      "    https://scikit-learn.org/stable/modules/preprocessing.html\n",
      "Please also refer to the documentation for alternative solver options:\n",
      "    https://scikit-learn.org/stable/modules/linear_model.html#logistic-regression\n",
      "  n_iter_i = _check_optimize_result(\n"
     ]
    }
   ],
   "source": [
    "#import the necessary libraries\n",
    "from sklearn.datasets import load_breast_cancer\n",
    "from sklearn.linear_model import LogisticRegression\n",
    "from sklearn.model_selection import train_test_split\n",
    "from sklearn.metrics import accuracy_score\n",
    "\n",
    "#load the breast cancer dataset\n",
    "X,y = load_breast_cancer(return_X_y = True)\n",
    "\n",
    "#Split the train and test dataset\n",
    "X_train,X_test,y_train,y_test = train_test_split(X,y,test_size = 0.20)\n",
    "\n",
    "#Logistic Regression\n",
    "clf = LogisticRegression(random_state = 0)\n",
    "clf.fit(X_train,y_train)\n",
    "\n",
    "#Prediction\n",
    "y_pred = clf.predict(X_test)\n",
    "\n",
    "acc = accuracy_score(y_test,y_pred)\n",
    "print('Logistic Regression model accuracy (in %):',acc*100)"
   ]
  },
  {
   "cell_type": "markdown",
   "id": "8686deb7-b397-4098-b32e-2a66eea5f33e",
   "metadata": {},
   "source": [
    "### Feature Scaling"
   ]
  },
  {
   "cell_type": "code",
   "execution_count": 74,
   "id": "a4118112-1562-434f-9c3d-d92fc796d11e",
   "metadata": {},
   "outputs": [
    {
     "name": "stdout",
     "output_type": "stream",
     "text": [
      "[[1.419e+01 2.381e+01 9.287e+01 ... 1.772e-01 4.724e-01 1.026e-01]\n",
      " [1.150e+01 1.845e+01 7.328e+01 ... 6.544e-02 2.740e-01 6.487e-02]\n",
      " [1.185e+01 1.746e+01 7.554e+01 ... 9.140e-02 3.101e-01 7.007e-02]\n",
      " ...\n",
      " [9.504e+00 1.244e+01 6.034e+01 ... 6.227e-02 2.450e-01 7.773e-02]\n",
      " [1.108e+01 1.471e+01 7.021e+01 ... 4.306e-02 1.902e-01 7.313e-02]\n",
      " [1.387e+01 1.621e+01 8.852e+01 ... 5.556e-02 2.362e-01 7.113e-02]]\n"
     ]
    }
   ],
   "source": [
    "from sklearn.preprocessing import StandardScaler\n",
    "from sklearn.preprocessing import MinMaxScaler\n",
    "sc = StandardScaler()\n",
    "sc.fit(X_train)\n",
    "print(X_train)"
   ]
  },
  {
   "cell_type": "code",
   "execution_count": 70,
   "id": "6b8b8e4e-16e5-4c5b-8fe9-cb1c35450473",
   "metadata": {},
   "outputs": [
    {
     "name": "stdout",
     "output_type": "stream",
     "text": [
      "\n"
     ]
    }
   ],
   "source": [
    "X_train_sc=sc.transform(X_train)\n",
    "print()"
   ]
  },
  {
   "cell_type": "code",
   "execution_count": 71,
   "id": "05812d60-da42-4a04-8003-439b453d9d44",
   "metadata": {},
   "outputs": [
    {
     "data": {
      "text/html": [
       "<style>#sk-container-id-2 {color: black;}#sk-container-id-2 pre{padding: 0;}#sk-container-id-2 div.sk-toggleable {background-color: white;}#sk-container-id-2 label.sk-toggleable__label {cursor: pointer;display: block;width: 100%;margin-bottom: 0;padding: 0.3em;box-sizing: border-box;text-align: center;}#sk-container-id-2 label.sk-toggleable__label-arrow:before {content: \"▸\";float: left;margin-right: 0.25em;color: #696969;}#sk-container-id-2 label.sk-toggleable__label-arrow:hover:before {color: black;}#sk-container-id-2 div.sk-estimator:hover label.sk-toggleable__label-arrow:before {color: black;}#sk-container-id-2 div.sk-toggleable__content {max-height: 0;max-width: 0;overflow: hidden;text-align: left;background-color: #f0f8ff;}#sk-container-id-2 div.sk-toggleable__content pre {margin: 0.2em;color: black;border-radius: 0.25em;background-color: #f0f8ff;}#sk-container-id-2 input.sk-toggleable__control:checked~div.sk-toggleable__content {max-height: 200px;max-width: 100%;overflow: auto;}#sk-container-id-2 input.sk-toggleable__control:checked~label.sk-toggleable__label-arrow:before {content: \"▾\";}#sk-container-id-2 div.sk-estimator input.sk-toggleable__control:checked~label.sk-toggleable__label {background-color: #d4ebff;}#sk-container-id-2 div.sk-label input.sk-toggleable__control:checked~label.sk-toggleable__label {background-color: #d4ebff;}#sk-container-id-2 input.sk-hidden--visually {border: 0;clip: rect(1px 1px 1px 1px);clip: rect(1px, 1px, 1px, 1px);height: 1px;margin: -1px;overflow: hidden;padding: 0;position: absolute;width: 1px;}#sk-container-id-2 div.sk-estimator {font-family: monospace;background-color: #f0f8ff;border: 1px dotted black;border-radius: 0.25em;box-sizing: border-box;margin-bottom: 0.5em;}#sk-container-id-2 div.sk-estimator:hover {background-color: #d4ebff;}#sk-container-id-2 div.sk-parallel-item::after {content: \"\";width: 100%;border-bottom: 1px solid gray;flex-grow: 1;}#sk-container-id-2 div.sk-label:hover label.sk-toggleable__label {background-color: #d4ebff;}#sk-container-id-2 div.sk-serial::before {content: \"\";position: absolute;border-left: 1px solid gray;box-sizing: border-box;top: 0;bottom: 0;left: 50%;z-index: 0;}#sk-container-id-2 div.sk-serial {display: flex;flex-direction: column;align-items: center;background-color: white;padding-right: 0.2em;padding-left: 0.2em;position: relative;}#sk-container-id-2 div.sk-item {position: relative;z-index: 1;}#sk-container-id-2 div.sk-parallel {display: flex;align-items: stretch;justify-content: center;background-color: white;position: relative;}#sk-container-id-2 div.sk-item::before, #sk-container-id-2 div.sk-parallel-item::before {content: \"\";position: absolute;border-left: 1px solid gray;box-sizing: border-box;top: 0;bottom: 0;left: 50%;z-index: -1;}#sk-container-id-2 div.sk-parallel-item {display: flex;flex-direction: column;z-index: 1;position: relative;background-color: white;}#sk-container-id-2 div.sk-parallel-item:first-child::after {align-self: flex-end;width: 50%;}#sk-container-id-2 div.sk-parallel-item:last-child::after {align-self: flex-start;width: 50%;}#sk-container-id-2 div.sk-parallel-item:only-child::after {width: 0;}#sk-container-id-2 div.sk-dashed-wrapped {border: 1px dashed gray;margin: 0 0.4em 0.5em 0.4em;box-sizing: border-box;padding-bottom: 0.4em;background-color: white;}#sk-container-id-2 div.sk-label label {font-family: monospace;font-weight: bold;display: inline-block;line-height: 1.2em;}#sk-container-id-2 div.sk-label-container {text-align: center;}#sk-container-id-2 div.sk-container {/* jupyter's `normalize.less` sets `[hidden] { display: none; }` but bootstrap.min.css set `[hidden] { display: none !important; }` so we also need the `!important` here to be able to override the default hidden behavior on the sphinx rendered scikit-learn.org. See: https://github.com/scikit-learn/scikit-learn/issues/21755 */display: inline-block !important;position: relative;}#sk-container-id-2 div.sk-text-repr-fallback {display: none;}</style><div id=\"sk-container-id-2\" class=\"sk-top-container\"><div class=\"sk-text-repr-fallback\"><pre>MinMaxScaler()</pre><b>In a Jupyter environment, please rerun this cell to show the HTML representation or trust the notebook. <br />On GitHub, the HTML representation is unable to render, please try loading this page with nbviewer.org.</b></div><div class=\"sk-container\" hidden><div class=\"sk-item\"><div class=\"sk-estimator sk-toggleable\"><input class=\"sk-toggleable__control sk-hidden--visually\" id=\"sk-estimator-id-2\" type=\"checkbox\" checked><label for=\"sk-estimator-id-2\" class=\"sk-toggleable__label sk-toggleable__label-arrow\">MinMaxScaler</label><div class=\"sk-toggleable__content\"><pre>MinMaxScaler()</pre></div></div></div></div></div>"
      ],
      "text/plain": [
       "MinMaxScaler()"
      ]
     },
     "execution_count": 71,
     "metadata": {},
     "output_type": "execute_result"
    }
   ],
   "source": [
    "mmc = MinMaxScaler()\n",
    "mmc.fit(X_train)"
   ]
  },
  {
   "cell_type": "code",
   "execution_count": 72,
   "id": "79038c66-6a23-43ae-adb4-56e8e6acd711",
   "metadata": {},
   "outputs": [
    {
     "name": "stdout",
     "output_type": "stream",
     "text": [
      "[[1.419e+01 2.381e+01 9.287e+01 ... 1.772e-01 4.724e-01 1.026e-01]\n",
      " [1.150e+01 1.845e+01 7.328e+01 ... 6.544e-02 2.740e-01 6.487e-02]\n",
      " [1.185e+01 1.746e+01 7.554e+01 ... 9.140e-02 3.101e-01 7.007e-02]\n",
      " ...\n",
      " [9.504e+00 1.244e+01 6.034e+01 ... 6.227e-02 2.450e-01 7.773e-02]\n",
      " [1.108e+01 1.471e+01 7.021e+01 ... 4.306e-02 1.902e-01 7.313e-02]\n",
      " [1.387e+01 1.621e+01 8.852e+01 ... 5.556e-02 2.362e-01 7.113e-02]]\n"
     ]
    }
   ],
   "source": [
    "print(X_train)"
   ]
  },
  {
   "cell_type": "code",
   "execution_count": 73,
   "id": "b3debf4b-b7fc-49fa-a235-c390217abfad",
   "metadata": {},
   "outputs": [
    {
     "name": "stdout",
     "output_type": "stream",
     "text": [
      "[[0.33278714 0.58506224 0.33470027 ... 0.60893471 0.62270846 0.31195068]\n",
      " [0.19504327 0.3626556  0.18863704 ... 0.22487973 0.23161837 0.06447593]\n",
      " [0.21296533 0.32157676 0.20548762 ... 0.31408935 0.30277942 0.09858323]\n",
      " ...\n",
      " [0.09283629 0.11327801 0.09215628 ... 0.21398625 0.17445299 0.14882592]\n",
      " [0.17353679 0.20746888 0.16574709 ... 0.14797251 0.06643012 0.11865407]\n",
      " [0.31640125 0.26970954 0.30226663 ... 0.19092784 0.15710625 0.10553588]]\n"
     ]
    }
   ],
   "source": [
    "X_train_mmc = mmc.transform(X_train)\n",
    "print(X_train_mmc)"
   ]
  },
  {
   "cell_type": "code",
   "execution_count": 78,
   "id": "c43b3340-c782-4777-a059-e9d05227441a",
   "metadata": {},
   "outputs": [],
   "source": [
    "import pickle\n",
    "with open('clf.pkl','wb') as f:                    #wb = write binary\n",
    "    pickle.dump(clf,f)\n",
    "\n",
    "#To open file\n",
    "with open('clf.pkl','rb') as f:                   #rb = read binary\n",
    "    m = pickle.load(f)"
   ]
  },
  {
   "cell_type": "code",
   "execution_count": null,
   "id": "e1a70170-8edb-4985-9172-c16c44a7053d",
   "metadata": {},
   "outputs": [],
   "source": []
  }
 ],
 "metadata": {
  "kernelspec": {
   "display_name": "Python 3 (ipykernel)",
   "language": "python",
   "name": "python3"
  },
  "language_info": {
   "codemirror_mode": {
    "name": "ipython",
    "version": 3
   },
   "file_extension": ".py",
   "mimetype": "text/x-python",
   "name": "python",
   "nbconvert_exporter": "python",
   "pygments_lexer": "ipython3",
   "version": "3.11.1"
  }
 },
 "nbformat": 4,
 "nbformat_minor": 5
}
