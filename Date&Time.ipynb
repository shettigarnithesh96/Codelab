{
 "cells": [
  {
   "cell_type": "markdown",
   "id": "e38ea55a-0120-455f-9616-6cf0dd5e4318",
   "metadata": {},
   "source": [
    "### Date and Time "
   ]
  },
  {
   "cell_type": "code",
   "execution_count": 1,
   "id": "a2c93dc3-ec8f-4663-8999-7e94c7e5eb8c",
   "metadata": {
    "scrolled": true
   },
   "outputs": [
    {
     "name": "stdout",
     "output_type": "stream",
     "text": [
      "2024-01-17 11:09:44.795384\n"
     ]
    }
   ],
   "source": [
    "import datetime\n",
    "x = datetime.datetime.now()\n",
    "print(x)"
   ]
  },
  {
   "cell_type": "code",
   "execution_count": 11,
   "id": "382defc6-7d82-4355-964d-1f39e48a81bf",
   "metadata": {},
   "outputs": [
    {
     "name": "stdout",
     "output_type": "stream",
     "text": [
      "11:12:00.554853\n",
      "2024-01-17\n"
     ]
    }
   ],
   "source": [
    "a = datetime.datetime.now().time()\n",
    "c = datetime.datetime.now().date()\n",
    "print(a)\n",
    "print(c)"
   ]
  },
  {
   "cell_type": "code",
   "execution_count": 9,
   "id": "cb77d82e-02d1-4207-9789-7e92f82c9daa",
   "metadata": {},
   "outputs": [
    {
     "name": "stdout",
     "output_type": "stream",
     "text": [
      "2024-01-17 11:11:11.161979\n"
     ]
    }
   ],
   "source": [
    "y = datetime.datetime.today()\n",
    "print(y)"
   ]
  },
  {
   "cell_type": "markdown",
   "id": "34deb161-97bb-48dd-a80b-de3ae483237f",
   "metadata": {},
   "source": [
    "### Math\n",
    "##### With many input but getting only one output is called aggregate"
   ]
  },
  {
   "cell_type": "code",
   "execution_count": 12,
   "id": "e3b4536b-2d3c-49bd-a2a7-3fdb0cda716e",
   "metadata": {},
   "outputs": [
    {
     "name": "stdout",
     "output_type": "stream",
     "text": [
      "1\n"
     ]
    }
   ],
   "source": [
    "x = min(10,15,1)\n",
    "print(x)"
   ]
  },
  {
   "cell_type": "code",
   "execution_count": 15,
   "id": "bedce4bc-966d-4646-a8be-7248ec7dd3c4",
   "metadata": {},
   "outputs": [
    {
     "name": "stdout",
     "output_type": "stream",
     "text": [
      "30\n"
     ]
    }
   ],
   "source": [
    "y = max(10,20,30)\n",
    "print(y)"
   ]
  },
  {
   "cell_type": "code",
   "execution_count": 16,
   "id": "7866e3ad-8889-41b0-a80c-ef5d72d02208",
   "metadata": {},
   "outputs": [
    {
     "name": "stdout",
     "output_type": "stream",
     "text": [
      "8.0\n"
     ]
    }
   ],
   "source": [
    "import math\n",
    "u = math.sqrt(64)\n",
    "print(u)"
   ]
  },
  {
   "cell_type": "code",
   "execution_count": 20,
   "id": "95129c33-f877-4d56-9cc9-33c7f456f67e",
   "metadata": {},
   "outputs": [
    {
     "name": "stdout",
     "output_type": "stream",
     "text": [
      "69\n"
     ]
    }
   ],
   "source": [
    "def valu():\n",
    "    print(69)\n",
    "valu()"
   ]
  },
  {
   "cell_type": "markdown",
   "id": "385af5e7-93a5-4fbc-9b35-ef0efb7a10ec",
   "metadata": {},
   "source": [
    "### Scope\n",
    "##### Local variable is created inside function.Local variable can only be called inside the function.\n",
    "##### Global variable is created outside the function.Global variable can be called inside or outside the function"
   ]
  },
  {
   "cell_type": "code",
   "execution_count": 26,
   "id": "607b7740-0e98-4c1f-99bc-e63158e92b4a",
   "metadata": {},
   "outputs": [
    {
     "name": "stdout",
     "output_type": "stream",
     "text": [
      "300\n"
     ]
    }
   ],
   "source": [
    "def myfunc(): #local variable\n",
    "    x = 300\n",
    "    print(x)\n",
    "myfunc()"
   ]
  },
  {
   "cell_type": "code",
   "execution_count": 28,
   "id": "cba04980-d672-4c42-bd6a-ec0c12cfb8f7",
   "metadata": {},
   "outputs": [
    {
     "name": "stdout",
     "output_type": "stream",
     "text": [
      "300\n",
      "5\n"
     ]
    }
   ],
   "source": [
    "x = 5 #Global variable\n",
    "def myfunc():\n",
    "    x = 300\n",
    "    print(x)\n",
    "myfunc()\n",
    "print(x)"
   ]
  },
  {
   "cell_type": "code",
   "execution_count": 25,
   "id": "52e758ea-8a7f-4740-b42d-8fcb68456dfb",
   "metadata": {},
   "outputs": [
    {
     "name": "stdout",
     "output_type": "stream",
     "text": [
      "300\n"
     ]
    }
   ],
   "source": [
    "def myfunc():\n",
    "    x = 300\n",
    "    def myinnerfunc():\n",
    "        print(x)\n",
    "    myinnerfunc()\n",
    "myfunc()"
   ]
  },
  {
   "cell_type": "code",
   "execution_count": 30,
   "id": "3da92e0a-b82b-457a-a5cd-98fc83081d62",
   "metadata": {},
   "outputs": [
    {
     "name": "stdout",
     "output_type": "stream",
     "text": [
      "300\n"
     ]
    }
   ],
   "source": [
    "def myfunc():\n",
    "    global x #Global variable\n",
    "    x = 300\n",
    "myfunc()\n",
    "print(x)"
   ]
  },
  {
   "cell_type": "code",
   "execution_count": null,
   "id": "7a31514b-2b16-4227-a6b6-2ade5775f834",
   "metadata": {},
   "outputs": [],
   "source": []
  }
 ],
 "metadata": {
  "kernelspec": {
   "display_name": "Python 3 (ipykernel)",
   "language": "python",
   "name": "python3"
  },
  "language_info": {
   "codemirror_mode": {
    "name": "ipython",
    "version": 3
   },
   "file_extension": ".py",
   "mimetype": "text/x-python",
   "name": "python",
   "nbconvert_exporter": "python",
   "pygments_lexer": "ipython3",
   "version": "3.11.1"
  }
 },
 "nbformat": 4,
 "nbformat_minor": 5
}
