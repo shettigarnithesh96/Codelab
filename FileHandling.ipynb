{
 "cells": [
  {
   "cell_type": "code",
   "execution_count": 1,
   "id": "8e9642d9-3ad5-443d-900c-c42e449a2f02",
   "metadata": {},
   "outputs": [],
   "source": [
    "#Used for creating, reading, updating and deleting files."
   ]
  },
  {
   "cell_type": "markdown",
   "id": "5eb1ae52-465e-47de-9c12-3db193331b79",
   "metadata": {},
   "source": [
    "### Open() and Read()\n",
    "##### 2 parameters : filename and mode\n",
    "##### \"r\" - Read - Default value.Opens a file for reading, error if the file does not exist\n",
    "##### \"a\" - Append - Opens a file for appending, creates the file if it does not exist\n",
    "##### \"w\" - Write - Opens a file for writing, creates the file if it does not exist\n",
    "##### \"x\" - Create - Creates the specified file, returns an erroe if the file exists"
   ]
  },
  {
   "cell_type": "code",
   "execution_count": 16,
   "id": "6d9f83fc-edc7-452c-b05f-8c3987556011",
   "metadata": {},
   "outputs": [
    {
     "name": "stdout",
     "output_type": "stream",
     "text": [
      "Hi my name is pawan.\n",
      "Good Morning.\n",
      "How are you\n",
      "\n"
     ]
    }
   ],
   "source": [
    "f = open(\"C:\\\\Users\\\\Aspir\\\\Documents\\\\demo.txt\",\"r\")\n",
    "print(f.read())"
   ]
  },
  {
   "cell_type": "code",
   "execution_count": 17,
   "id": "ca151470-308f-477f-a8c9-07ec150d2f39",
   "metadata": {},
   "outputs": [
    {
     "name": "stdout",
     "output_type": "stream",
     "text": [
      "Hi my name is pawan.\n",
      "Good Morning.\n",
      "How are you\n",
      "\n"
     ]
    }
   ],
   "source": [
    "f = open(\"C:/Users/Aspir/Documents/demo.txt\",\"r\")\n",
    "print(f.read())"
   ]
  },
  {
   "cell_type": "markdown",
   "id": "35324619-3650-44f0-8127-f364d47f79e4",
   "metadata": {},
   "source": [
    "### Write()"
   ]
  },
  {
   "cell_type": "code",
   "execution_count": 3,
   "id": "1bbe0e27-abef-4aa4-bc27-917ddabf3424",
   "metadata": {},
   "outputs": [],
   "source": [
    "f = open(\"C:/Users/Aspir/Documents/demo.txt\",\"a\")\n",
    "f.write(\"Now the file has more content!\")\n",
    "f.close()"
   ]
  },
  {
   "cell_type": "code",
   "execution_count": 4,
   "id": "88001cab-5c1b-4e4a-b906-ac05a91d234b",
   "metadata": {},
   "outputs": [
    {
     "name": "stdout",
     "output_type": "stream",
     "text": [
      "Hi my name is pawan.\n",
      "Good Morning.\n",
      "How are you\n",
      "Now the file has more content!\n"
     ]
    }
   ],
   "source": [
    "f = open(\"C:/Users/Aspir/Documents/demo.txt\",\"r\")\n",
    "print(f.read())"
   ]
  },
  {
   "cell_type": "code",
   "execution_count": 5,
   "id": "f1daf422-b1e9-4897-bff7-2b0943d20938",
   "metadata": {},
   "outputs": [],
   "source": [
    "f = open(\"C:/Users/Aspir/Documents/demo.txt\",\"w\")\n",
    "f.write(\"Now the file has more content!\")\n",
    "f.close()"
   ]
  },
  {
   "cell_type": "code",
   "execution_count": 6,
   "id": "7d4f8e1f-32e2-4cff-bf5f-50d09aef4f94",
   "metadata": {},
   "outputs": [
    {
     "name": "stdout",
     "output_type": "stream",
     "text": [
      "Now the file has more content!\n"
     ]
    }
   ],
   "source": [
    "f = open(\"C:/Users/Aspir/Documents/demo.txt\",\"r\")\n",
    "print(f.read())"
   ]
  },
  {
   "cell_type": "markdown",
   "id": "e0e1788c-f728-426c-92a3-6092a6fe5d26",
   "metadata": {},
   "source": [
    "### Creating the File"
   ]
  },
  {
   "cell_type": "code",
   "execution_count": 4,
   "id": "75119299-84c5-41e8-b8fd-a9b0d180235e",
   "metadata": {},
   "outputs": [
    {
     "name": "stdout",
     "output_type": "stream",
     "text": [
      "Already file created\n"
     ]
    }
   ],
   "source": [
    "try:\n",
    "    f1 = open(\"Myfile1.txt\",\"x\")\n",
    "except:\n",
    "    print(\"Already file created\")"
   ]
  },
  {
   "cell_type": "code",
   "execution_count": 13,
   "id": "fea87233-c465-48ac-adde-115bb2f1cb82",
   "metadata": {},
   "outputs": [],
   "source": [
    "#Write\n",
    "f1 = open(\"Myfile1.txt\",\"w\")\n",
    "f1.write(\"New File.\")\n",
    "f1.close()"
   ]
  },
  {
   "cell_type": "code",
   "execution_count": 14,
   "id": "ddc587af-9578-4c67-9ddb-e91c0a5ccac0",
   "metadata": {},
   "outputs": [
    {
     "name": "stdout",
     "output_type": "stream",
     "text": [
      "New File.\n"
     ]
    }
   ],
   "source": [
    "#Read\n",
    "f1 = open(\"Myfile1.txt\",\"r\")\n",
    "print(f1.read())"
   ]
  },
  {
   "cell_type": "code",
   "execution_count": 15,
   "id": "f3a895e5-9479-4fc4-bc21-e128ede6f7ff",
   "metadata": {},
   "outputs": [],
   "source": [
    "#Append\n",
    "f1 = open(\"Myfile1.txt\",\"a\")\n",
    "f1.write(\"Hi how are you.This is new text\")\n",
    "f1.close()"
   ]
  },
  {
   "cell_type": "code",
   "execution_count": 12,
   "id": "09aec8c4-4df9-42df-8424-c1eed465874c",
   "metadata": {},
   "outputs": [
    {
     "name": "stdout",
     "output_type": "stream",
     "text": [
      "New File.Hi how are you.This is new text\n"
     ]
    }
   ],
   "source": [
    "f1 = open(\"Myfile1.txt\",\"r\")\n",
    "print(f1.read())"
   ]
  },
  {
   "cell_type": "markdown",
   "id": "50d42f34-b21d-44f9-bfe8-81c3cb856dc2",
   "metadata": {},
   "source": [
    "### Deleting File\n",
    "##### To delete a file, you must import the OS module, and run its os.remove() function"
   ]
  },
  {
   "cell_type": "code",
   "execution_count": 16,
   "id": "0f564a55-89ea-418b-9359-95eba8bb18e5",
   "metadata": {},
   "outputs": [],
   "source": [
    "import os\n",
    "os.remove(\"demo.txt\")"
   ]
  },
  {
   "cell_type": "code",
   "execution_count": null,
   "id": "ae6d8d2d-c4fa-431a-9a64-81711fde1524",
   "metadata": {},
   "outputs": [],
   "source": []
  }
 ],
 "metadata": {
  "kernelspec": {
   "display_name": "Python 3 (ipykernel)",
   "language": "python",
   "name": "python3"
  },
  "language_info": {
   "codemirror_mode": {
    "name": "ipython",
    "version": 3
   },
   "file_extension": ".py",
   "mimetype": "text/x-python",
   "name": "python",
   "nbconvert_exporter": "python",
   "pygments_lexer": "ipython3",
   "version": "3.11.1"
  }
 },
 "nbformat": 4,
 "nbformat_minor": 5
}
