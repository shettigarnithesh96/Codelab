{
 "cells": [
  {
   "cell_type": "code",
   "execution_count": 7,
   "id": "661882c2-5898-4fc9-bf6e-0d617ac832dc",
   "metadata": {},
   "outputs": [
    {
     "name": "stdout",
     "output_type": "stream",
     "text": [
      "['apple', 'bannana', 9.5, 1, 2, 3, 10.9, 'bannana']\n",
      "<class 'list'>\n"
     ]
    }
   ],
   "source": [
    "a = [\"apple\",\"bannana\",9.5,1,2,3,10.9,\"bannana\"]\n",
    "print(a)\n",
    "print(type(a))"
   ]
  },
  {
   "cell_type": "code",
   "execution_count": 8,
   "id": "7cdf056e-dda7-4eea-8c61-9d0391614837",
   "metadata": {},
   "outputs": [
    {
     "data": {
      "text/plain": [
       "['apple', 'bannana', 9.5, 1, 2, 3, 10.9, 'bannana']"
      ]
     },
     "execution_count": 8,
     "metadata": {},
     "output_type": "execute_result"
    }
   ],
   "source": [
    "a[0:]"
   ]
  },
  {
   "cell_type": "code",
   "execution_count": 9,
   "id": "32133cb4-8bf5-45bf-abcc-e36327a834b3",
   "metadata": {},
   "outputs": [
    {
     "name": "stdout",
     "output_type": "stream",
     "text": [
      "bannana\n"
     ]
    }
   ],
   "source": [
    "print(a[1])"
   ]
  },
  {
   "cell_type": "code",
   "execution_count": 10,
   "id": "81a75fc5-22d7-4e34-8b60-85f95e2d62c7",
   "metadata": {},
   "outputs": [
    {
     "name": "stdout",
     "output_type": "stream",
     "text": [
      "9.5\n"
     ]
    }
   ],
   "source": [
    "print(a[-6])"
   ]
  },
  {
   "cell_type": "code",
   "execution_count": 11,
   "id": "e1eeb897-b799-44c0-a35a-2650780f2024",
   "metadata": {},
   "outputs": [
    {
     "name": "stdout",
     "output_type": "stream",
     "text": [
      "[9.5, 1, 2, 3, 10.9]\n"
     ]
    }
   ],
   "source": [
    "print(a[-6:-1])"
   ]
  },
  {
   "cell_type": "code",
   "execution_count": 12,
   "id": "1d99fcdc-72b6-46bb-a946-25d13d30d488",
   "metadata": {},
   "outputs": [
    {
     "name": "stdout",
     "output_type": "stream",
     "text": [
      "[9.5, 2, 10.9]\n"
     ]
    }
   ],
   "source": [
    "print(a[-6:-1:2])"
   ]
  },
  {
   "cell_type": "code",
   "execution_count": 13,
   "id": "6e1747b2-54ba-49ec-b873-e737a51beaad",
   "metadata": {},
   "outputs": [
    {
     "name": "stdout",
     "output_type": "stream",
     "text": [
      "bannana\n"
     ]
    }
   ],
   "source": [
    "print(a[-7])"
   ]
  },
  {
   "cell_type": "code",
   "execution_count": 14,
   "id": "171e6f49-e65b-4c76-8266-610120a271fd",
   "metadata": {},
   "outputs": [
    {
     "name": "stdout",
     "output_type": "stream",
     "text": [
      "['apple', 'Cherry', 9.5, 1, 2, 3, 10.9, 'bannana']\n"
     ]
    }
   ],
   "source": [
    "a[1] = \"Cherry\"\n",
    "print(a)"
   ]
  },
  {
   "cell_type": "code",
   "execution_count": 15,
   "id": "a90c5dba-2850-41cf-9e05-6c76a0822be3",
   "metadata": {},
   "outputs": [
    {
     "name": "stdout",
     "output_type": "stream",
     "text": [
      "['apple', 'Kiwi', 'Cherry', 9.5, 1, 2, 3, 10.9, 'bannana']\n"
     ]
    }
   ],
   "source": [
    "a.insert(1,\"Kiwi\")\n",
    "print(a)"
   ]
  },
  {
   "cell_type": "code",
   "execution_count": 16,
   "id": "7a3c1e7f-24fc-4c1c-bf80-8df4c9791781",
   "metadata": {},
   "outputs": [
    {
     "name": "stdout",
     "output_type": "stream",
     "text": [
      "['apple', 'Cherry', 9.5, 1, 2, 3, 10.9, 'bannana']\n"
     ]
    }
   ],
   "source": [
    "a.remove(\"Kiwi\")\n",
    "print(a)"
   ]
  },
  {
   "cell_type": "code",
   "execution_count": 17,
   "id": "24dbae33-45e5-4d36-ba04-da0eed51d859",
   "metadata": {},
   "outputs": [
    {
     "name": "stdout",
     "output_type": "stream",
     "text": [
      "['apple', 9.5, 1, 2, 3, 10.9, 'bannana']\n"
     ]
    }
   ],
   "source": [
    "a.pop(1)\n",
    "print(a)"
   ]
  },
  {
   "cell_type": "markdown",
   "id": "927e83c8-ff3a-4164-b3f8-154e966b0a68",
   "metadata": {},
   "source": [
    "### List"
   ]
  },
  {
   "cell_type": "code",
   "execution_count": 1,
   "id": "70ecc174-24ea-4e83-9c6a-9ee4dce86005",
   "metadata": {},
   "outputs": [
    {
     "name": "stdout",
     "output_type": "stream",
     "text": [
      "['Apple', 'Cherry', 'Mango', 'Cherry', 1, 2, 3, 2, 1, 1.0, 2.5, 2.5]\n"
     ]
    }
   ],
   "source": [
    "list = [\"Apple\",\"Cherry\",\"Mango\",\"Cherry\",1,2,3,2,1,1.0,2.5,2.5]\n",
    "print(list)"
   ]
  },
  {
   "cell_type": "code",
   "execution_count": 2,
   "id": "67c88c21-1426-4a0f-98e1-d75778ed159b",
   "metadata": {},
   "outputs": [
    {
     "name": "stdout",
     "output_type": "stream",
     "text": [
      "<class 'list'>\n"
     ]
    }
   ],
   "source": [
    "print(type(list))"
   ]
  },
  {
   "cell_type": "code",
   "execution_count": 3,
   "id": "73ab9aad-9b97-44da-8da3-98aee98ab7ac",
   "metadata": {},
   "outputs": [],
   "source": [
    "#positive indexing"
   ]
  },
  {
   "cell_type": "code",
   "execution_count": 4,
   "id": "908c82f6-ee3c-47df-9513-f91a0c327c3b",
   "metadata": {},
   "outputs": [
    {
     "name": "stdout",
     "output_type": "stream",
     "text": [
      "3\n",
      "Mango\n",
      "2.5\n"
     ]
    }
   ],
   "source": [
    "print(list[6])\n",
    "print(list[2])\n",
    "print(list[10])"
   ]
  },
  {
   "cell_type": "code",
   "execution_count": 5,
   "id": "ba857bee-6e4b-4b65-8916-975d3229c0d1",
   "metadata": {},
   "outputs": [],
   "source": [
    "#negative indexing"
   ]
  },
  {
   "cell_type": "code",
   "execution_count": 6,
   "id": "48dafe87-e304-4125-a045-c134777b14c6",
   "metadata": {},
   "outputs": [
    {
     "name": "stdout",
     "output_type": "stream",
     "text": [
      "3\n",
      "2.5\n",
      "Mango\n"
     ]
    }
   ],
   "source": [
    "print(list[-6])\n",
    "print(list[-2])\n",
    "print(list[-10])"
   ]
  },
  {
   "cell_type": "code",
   "execution_count": 7,
   "id": "35893bc6-bcb5-4de6-89a8-24deb18a1c43",
   "metadata": {},
   "outputs": [
    {
     "name": "stdout",
     "output_type": "stream",
     "text": [
      "[3, 2, 1, 1.0, 2.5]\n",
      "['Mango', 'Cherry', 1, 2, 3, 2, 1, 1.0, 2.5, 2.5]\n"
     ]
    }
   ],
   "source": [
    "print(list[-6:-1])\n",
    "print(list[2:])"
   ]
  },
  {
   "cell_type": "code",
   "execution_count": 8,
   "id": "a9d1405d-7277-437c-bb96-bbe4564fb7dd",
   "metadata": {},
   "outputs": [
    {
     "name": "stdout",
     "output_type": "stream",
     "text": [
      "Cherry\n",
      "['Cherry', 2, 2, 1.0]\n"
     ]
    }
   ],
   "source": [
    "print(list[-9])\n",
    "print(list[-9:-1:2])"
   ]
  },
  {
   "cell_type": "code",
   "execution_count": 9,
   "id": "b22ff8b2-3097-4cbf-807a-d61cb94c3343",
   "metadata": {},
   "outputs": [
    {
     "name": "stdout",
     "output_type": "stream",
     "text": [
      "['Apple', 'Kiwi', 'Cherry', 'Mango', 'Cherry', 1, 2, 3, 2, 1, 1.0, 2.5, 2.5]\n"
     ]
    }
   ],
   "source": [
    "list.insert(1,\"Kiwi\")\n",
    "print(list)"
   ]
  },
  {
   "cell_type": "code",
   "execution_count": 10,
   "id": "b407539b-b8ed-4079-a542-2cb8da286af8",
   "metadata": {},
   "outputs": [
    {
     "name": "stdout",
     "output_type": "stream",
     "text": [
      "['Apple', 'Kiwi', 'Cherry', 'Mango', 'Cherry', 1, 2, 3, 2, 1, 1.0, 2.5]\n"
     ]
    }
   ],
   "source": [
    "list.remove(2.5)\n",
    "print(list)"
   ]
  },
  {
   "cell_type": "code",
   "execution_count": 19,
   "id": "474c6669-be72-40df-909a-f89af0ccf91d",
   "metadata": {},
   "outputs": [
    {
     "name": "stdout",
     "output_type": "stream",
     "text": [
      "['Apple', 'Cherry', 'Mango', 'Cherry', 1, 2, 3, 2, 1.0]\n"
     ]
    }
   ],
   "source": [
    "list.pop(9)\n",
    "print(list)"
   ]
  },
  {
   "cell_type": "code",
   "execution_count": 20,
   "id": "ffcbf698-f099-411d-b605-eebb507d1ca1",
   "metadata": {},
   "outputs": [
    {
     "name": "stdout",
     "output_type": "stream",
     "text": [
      "['Apple', 'Mango', 'Cherry', 1, 2, 3, 2, 1.0]\n"
     ]
    }
   ],
   "source": [
    "del list[1]\n",
    "print(list)"
   ]
  },
  {
   "cell_type": "markdown",
   "id": "5ab83f5e-f2cc-4068-8a82-9f39d4c59f0d",
   "metadata": {},
   "source": [
    "## Tuple"
   ]
  },
  {
   "cell_type": "code",
   "execution_count": 1,
   "id": "0229a78d-8f98-4612-8464-1fe84a4ac490",
   "metadata": {},
   "outputs": [
    {
     "name": "stdout",
     "output_type": "stream",
     "text": [
      "('apple', 'bannana', 'Mango', 1, 99, 101, 1.5, 'r')\n"
     ]
    }
   ],
   "source": [
    "tuple = (\"apple\",\"bannana\",\"Mango\",1,99,101,1.5,\"r\")\n",
    "print(tuple)"
   ]
  },
  {
   "cell_type": "code",
   "execution_count": 2,
   "id": "a7a9e143-9dd1-45a1-8162-79213f7f0f50",
   "metadata": {},
   "outputs": [
    {
     "name": "stdout",
     "output_type": "stream",
     "text": [
      "['apple', 'bannana', 'Mango', 1, 99, 101, 1.5, 'r']\n"
     ]
    },
    {
     "data": {
      "text/plain": [
       "list"
      ]
     },
     "execution_count": 2,
     "metadata": {},
     "output_type": "execute_result"
    }
   ],
   "source": [
    "y = list(tuple)\n",
    "print(y)\n",
    "type(y)"
   ]
  },
  {
   "cell_type": "code",
   "execution_count": 3,
   "id": "c85cda0f-1254-4dfc-b194-486a23e1fd86",
   "metadata": {},
   "outputs": [
    {
     "data": {
      "text/plain": [
       "['apple', 'bannana', 'Papaya', 'Mango', 1, 99, 101, 1.5, 'r']"
      ]
     },
     "execution_count": 3,
     "metadata": {},
     "output_type": "execute_result"
    }
   ],
   "source": [
    "y.insert(2,\"Papaya\")\n",
    "y"
   ]
  },
  {
   "cell_type": "code",
   "execution_count": 4,
   "id": "7c68d404-db95-4737-a2b7-419950b70e35",
   "metadata": {},
   "outputs": [
    {
     "data": {
      "text/plain": [
       "['apple', 'bannana', 'Papaya', 'Mango', 1, 101, 1.5, 'r']"
      ]
     },
     "execution_count": 4,
     "metadata": {},
     "output_type": "execute_result"
    }
   ],
   "source": [
    "y.remove(99)\n",
    "y"
   ]
  },
  {
   "cell_type": "code",
   "execution_count": 5,
   "id": "0b9017fe-172c-498b-b0b2-ee5e412cdbda",
   "metadata": {},
   "outputs": [
    {
     "data": {
      "text/plain": [
       "['apple', 'bannana', 'Papaya', 'Mango', 1, 101, 1.5]"
      ]
     },
     "execution_count": 5,
     "metadata": {},
     "output_type": "execute_result"
    }
   ],
   "source": [
    "y.pop()\n",
    "y"
   ]
  },
  {
   "cell_type": "code",
   "execution_count": 7,
   "id": "f43886e2-6bd8-42ce-b73f-da0176fe85ef",
   "metadata": {},
   "outputs": [
    {
     "ename": "TypeError",
     "evalue": "'tuple' object is not callable",
     "output_type": "error",
     "traceback": [
      "\u001b[1;31m---------------------------------------------------------------------------\u001b[0m",
      "\u001b[1;31mTypeError\u001b[0m                                 Traceback (most recent call last)",
      "Cell \u001b[1;32mIn[7], line 1\u001b[0m\n\u001b[1;32m----> 1\u001b[0m z \u001b[38;5;241m=\u001b[39m \u001b[38;5;28;43mtuple\u001b[39;49m\u001b[43m(\u001b[49m\u001b[43my\u001b[49m\u001b[43m)\u001b[49m\n\u001b[0;32m      2\u001b[0m \u001b[38;5;28mprint\u001b[39m(z)\n",
      "\u001b[1;31mTypeError\u001b[0m: 'tuple' object is not callable"
     ]
    }
   ],
   "source": [
    "z = tuple(y)\n",
    "print(z)"
   ]
  },
  {
   "cell_type": "markdown",
   "id": "4c3e2dac-7045-4d56-8136-398408acbf0e",
   "metadata": {},
   "source": [
    "## Set"
   ]
  },
  {
   "cell_type": "code",
   "execution_count": 23,
   "id": "484ee5bd-3978-4602-a7ef-3f04579348f0",
   "metadata": {},
   "outputs": [
    {
     "name": "stdout",
     "output_type": "stream",
     "text": [
      "{1, 2, 3, 'Mango', 'apple'}\n"
     ]
    }
   ],
   "source": [
    "myset = {1,2,3,\"apple\",\"apple\",\"Mango\"}\n",
    "print(myset)"
   ]
  },
  {
   "cell_type": "code",
   "execution_count": 24,
   "id": "6bb73154-ca87-4da5-b175-394559b6634a",
   "metadata": {},
   "outputs": [
    {
     "name": "stdout",
     "output_type": "stream",
     "text": [
      "{1, 3, 'Mango', 'apple'}\n"
     ]
    }
   ],
   "source": [
    "myset.remove(2)\n",
    "print(myset)"
   ]
  },
  {
   "cell_type": "code",
   "execution_count": 25,
   "id": "f23a0925-e48d-43e4-853f-669ec63a2b5d",
   "metadata": {},
   "outputs": [
    {
     "name": "stdout",
     "output_type": "stream",
     "text": [
      "{1, 3, 'Mango', 'chiku', 'apple'}\n"
     ]
    }
   ],
   "source": [
    "myset.add(\"chiku\")\n",
    "print(myset)"
   ]
  },
  {
   "cell_type": "markdown",
   "id": "a88f53cd-00a0-4fae-833f-a7940c345c46",
   "metadata": {},
   "source": [
    "### Dict"
   ]
  },
  {
   "cell_type": "code",
   "execution_count": 40,
   "id": "2a5b628d-e651-4a22-adb1-1f48b4d1d7da",
   "metadata": {},
   "outputs": [
    {
     "name": "stdout",
     "output_type": "stream",
     "text": [
      "{'name': 'Nithesh', 'age': 60, 'Martial Status': 'Married', 'place': 'Punjalkatte'}\n"
     ]
    }
   ],
   "source": [
    "dict = {\n",
    "    \"name\" : \"Nithesh\",\n",
    "    \"name\" : \"Nithesh\",\n",
    "    \"age\" : 60,\n",
    "    \"Martial Status\" : \"Married\"\n",
    "}\n",
    "dict[\"place\"] = \"Punjalkatte\"\n",
    "print(dict)"
   ]
  },
  {
   "cell_type": "code",
   "execution_count": 41,
   "id": "3cd4e0b7-e9b1-44a1-9c2e-b7bc9024d067",
   "metadata": {},
   "outputs": [
    {
     "name": "stdout",
     "output_type": "stream",
     "text": [
      "Nithesh\n",
      "60\n"
     ]
    }
   ],
   "source": [
    "print(dict[\"name\"])\n",
    "print(dict[\"age\"])"
   ]
  },
  {
   "cell_type": "code",
   "execution_count": 42,
   "id": "9d0dccbc-e67e-4b96-a7b3-d06ad22f3a99",
   "metadata": {},
   "outputs": [
    {
     "data": {
      "text/plain": [
       "'Nithesh'"
      ]
     },
     "execution_count": 42,
     "metadata": {},
     "output_type": "execute_result"
    }
   ],
   "source": [
    "dict.get(\"name\")"
   ]
  },
  {
   "cell_type": "code",
   "execution_count": 43,
   "id": "9f594532-1452-4946-ae83-ddd1e27052a4",
   "metadata": {},
   "outputs": [
    {
     "data": {
      "text/plain": [
       "dict_keys(['name', 'age', 'Martial Status', 'place'])"
      ]
     },
     "execution_count": 43,
     "metadata": {},
     "output_type": "execute_result"
    }
   ],
   "source": [
    "dict.keys()"
   ]
  },
  {
   "cell_type": "code",
   "execution_count": 44,
   "id": "80c28bac-ba99-40aa-9660-0212932722a6",
   "metadata": {},
   "outputs": [
    {
     "data": {
      "text/plain": [
       "dict_values(['Nithesh', 60, 'Married', 'Punjalkatte'])"
      ]
     },
     "execution_count": 44,
     "metadata": {},
     "output_type": "execute_result"
    }
   ],
   "source": [
    "dict.values()"
   ]
  },
  {
   "cell_type": "code",
   "execution_count": 47,
   "id": "e560cc33-2f23-4f99-854a-16f9798d7e1e",
   "metadata": {},
   "outputs": [
    {
     "name": "stdout",
     "output_type": "stream",
     "text": [
      "{'name': 'Nithesh', 'age': 60, 'Martial Status': 'Married'}\n"
     ]
    }
   ],
   "source": [
    "dict.pop(\"place\")\n",
    "print(dict)"
   ]
  },
  {
   "cell_type": "markdown",
   "id": "03e1595c-1bda-478e-b0b6-dfa976dc229e",
   "metadata": {},
   "source": [
    "## Type casting"
   ]
  },
  {
   "cell_type": "code",
   "execution_count": 51,
   "id": "abaefd03-15d2-44cc-af9b-0fa2ac5f23a5",
   "metadata": {},
   "outputs": [
    {
     "name": "stdin",
     "output_type": "stream",
     "text": [
      "Enter first number: 5\n",
      "Enter second number: 5\n"
     ]
    },
    {
     "name": "stdout",
     "output_type": "stream",
     "text": [
      "Sum: 10\n"
     ]
    }
   ],
   "source": [
    "a = int(input(\"Enter first number:\"))\n",
    "b = int(input(\"Enter second number:\"))\n",
    "c = a+b\n",
    "print(\"Sum:\",c)"
   ]
  },
  {
   "cell_type": "code",
   "execution_count": 52,
   "id": "d2e5f2ff-f4a2-4423-a150-d065fe288a87",
   "metadata": {},
   "outputs": [
    {
     "name": "stdin",
     "output_type": "stream",
     "text": [
      "Enter first number: 5\n",
      "Enter second number: 6\n"
     ]
    },
    {
     "name": "stdout",
     "output_type": "stream",
     "text": [
      "Sum: 56\n"
     ]
    }
   ],
   "source": [
    "a = input(\"Enter first number:\")\n",
    "b = input(\"Enter second number:\")\n",
    "c = a+b\n",
    "print(\"Sum:\",c)"
   ]
  },
  {
   "cell_type": "code",
   "execution_count": null,
   "id": "6151daad-d9e5-4663-b665-6276d9597f44",
   "metadata": {},
   "outputs": [],
   "source": []
  }
 ],
 "metadata": {
  "kernelspec": {
   "display_name": "Python 3 (ipykernel)",
   "language": "python",
   "name": "python3"
  },
  "language_info": {
   "codemirror_mode": {
    "name": "ipython",
    "version": 3
   },
   "file_extension": ".py",
   "mimetype": "text/x-python",
   "name": "python",
   "nbconvert_exporter": "python",
   "pygments_lexer": "ipython3",
   "version": "3.11.1"
  }
 },
 "nbformat": 4,
 "nbformat_minor": 5
}
